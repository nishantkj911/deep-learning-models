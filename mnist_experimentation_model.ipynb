{
  "nbformat": 4,
  "nbformat_minor": 0,
  "metadata": {
    "colab": {
      "name": "mnist-experimentation-model.ipynb",
      "provenance": [],
      "collapsed_sections": [],
      "include_colab_link": true
    },
    "kernelspec": {
      "name": "python3",
      "display_name": "Python 3"
    }
  },
  "cells": [
    {
      "cell_type": "markdown",
      "metadata": {
        "id": "view-in-github",
        "colab_type": "text"
      },
      "source": [
        "<a href=\"https://colab.research.google.com/github/nishantkj911/deep-learning-models/blob/master/mnist_experimentation_model.ipynb\" target=\"_parent\"><img src=\"https://colab.research.google.com/assets/colab-badge.svg\" alt=\"Open In Colab\"/></a>"
      ]
    },
    {
      "cell_type": "code",
      "metadata": {
        "id": "QeRyD94cFISb",
        "colab_type": "code",
        "outputId": "78ba3898-e980-4ca7-bf3a-d86f1bc1b016",
        "colab": {
          "base_uri": "https://localhost:8080/",
          "height": 1000
        }
      },
      "source": [
        "!pip install --upgrade tensorflow grpcio google-auth google-colab"
      ],
      "execution_count": 36,
      "outputs": [
        {
          "output_type": "stream",
          "text": [
            "Requirement already up-to-date: tensorflow in /usr/local/lib/python3.6/dist-packages (2.0.0)\n",
            "Requirement already up-to-date: grpcio in /usr/local/lib/python3.6/dist-packages (1.26.0)\n",
            "Requirement already up-to-date: google-auth in /usr/local/lib/python3.6/dist-packages (1.10.0)\n",
            "Requirement already up-to-date: google-colab in /usr/local/lib/python3.6/dist-packages (1.0.0)\n",
            "Requirement already satisfied, skipping upgrade: google-pasta>=0.1.6 in /usr/local/lib/python3.6/dist-packages (from tensorflow) (0.1.8)\n",
            "Requirement already satisfied, skipping upgrade: keras-preprocessing>=1.0.5 in /usr/local/lib/python3.6/dist-packages (from tensorflow) (1.1.0)\n",
            "Requirement already satisfied, skipping upgrade: opt-einsum>=2.3.2 in /usr/local/lib/python3.6/dist-packages (from tensorflow) (3.1.0)\n",
            "Requirement already satisfied, skipping upgrade: six>=1.10.0 in /usr/local/lib/python3.6/dist-packages (from tensorflow) (1.12.0)\n",
            "Requirement already satisfied, skipping upgrade: tensorflow-estimator<2.1.0,>=2.0.0 in /usr/local/lib/python3.6/dist-packages (from tensorflow) (2.0.1)\n",
            "Requirement already satisfied, skipping upgrade: astor>=0.6.0 in /usr/local/lib/python3.6/dist-packages (from tensorflow) (0.8.1)\n",
            "Requirement already satisfied, skipping upgrade: numpy<2.0,>=1.16.0 in /usr/local/lib/python3.6/dist-packages (from tensorflow) (1.17.4)\n",
            "Requirement already satisfied, skipping upgrade: wrapt>=1.11.1 in /usr/local/lib/python3.6/dist-packages (from tensorflow) (1.11.2)\n",
            "Requirement already satisfied, skipping upgrade: termcolor>=1.1.0 in /usr/local/lib/python3.6/dist-packages (from tensorflow) (1.1.0)\n",
            "Requirement already satisfied, skipping upgrade: gast==0.2.2 in /usr/local/lib/python3.6/dist-packages (from tensorflow) (0.2.2)\n",
            "Requirement already satisfied, skipping upgrade: absl-py>=0.7.0 in /usr/local/lib/python3.6/dist-packages (from tensorflow) (0.8.1)\n",
            "Requirement already satisfied, skipping upgrade: protobuf>=3.6.1 in /usr/local/lib/python3.6/dist-packages (from tensorflow) (3.10.0)\n",
            "Requirement already satisfied, skipping upgrade: wheel>=0.26 in /usr/local/lib/python3.6/dist-packages (from tensorflow) (0.33.6)\n",
            "Requirement already satisfied, skipping upgrade: tensorboard<2.1.0,>=2.0.0 in /usr/local/lib/python3.6/dist-packages (from tensorflow) (2.0.2)\n",
            "Requirement already satisfied, skipping upgrade: keras-applications>=1.0.8 in /usr/local/lib/python3.6/dist-packages (from tensorflow) (1.0.8)\n",
            "Requirement already satisfied, skipping upgrade: setuptools>=40.3.0 in /usr/local/lib/python3.6/dist-packages (from google-auth) (42.0.2)\n",
            "Requirement already satisfied, skipping upgrade: rsa<4.1,>=3.1.4 in /usr/local/lib/python3.6/dist-packages (from google-auth) (4.0)\n",
            "Requirement already satisfied, skipping upgrade: cachetools<5.0,>=2.0.0 in /usr/local/lib/python3.6/dist-packages (from google-auth) (4.0.0)\n",
            "Requirement already satisfied, skipping upgrade: pyasn1-modules>=0.2.1 in /usr/local/lib/python3.6/dist-packages (from google-auth) (0.2.7)\n",
            "Requirement already satisfied, skipping upgrade: ipykernel~=4.6.0 in /usr/local/lib/python3.6/dist-packages (from google-colab) (4.6.1)\n",
            "Requirement already satisfied, skipping upgrade: pandas~=0.25.0; python_version >= \"3.0\" in /usr/local/lib/python3.6/dist-packages (from google-colab) (0.25.3)\n",
            "Requirement already satisfied, skipping upgrade: portpicker~=1.2.0 in /usr/local/lib/python3.6/dist-packages (from google-colab) (1.2.0)\n",
            "Requirement already satisfied, skipping upgrade: notebook~=5.2.0 in /usr/local/lib/python3.6/dist-packages (from google-colab) (5.2.2)\n",
            "Requirement already satisfied, skipping upgrade: requests~=2.21.0 in /usr/local/lib/python3.6/dist-packages (from google-colab) (2.21.0)\n",
            "Requirement already satisfied, skipping upgrade: tornado~=4.5.0 in /usr/local/lib/python3.6/dist-packages (from google-colab) (4.5.3)\n",
            "Requirement already satisfied, skipping upgrade: ipython~=5.5.0 in /usr/local/lib/python3.6/dist-packages (from google-colab) (5.5.0)\n",
            "Requirement already satisfied, skipping upgrade: werkzeug>=0.11.15 in /usr/local/lib/python3.6/dist-packages (from tensorboard<2.1.0,>=2.0.0->tensorflow) (0.16.0)\n",
            "Requirement already satisfied, skipping upgrade: google-auth-oauthlib<0.5,>=0.4.1 in /usr/local/lib/python3.6/dist-packages (from tensorboard<2.1.0,>=2.0.0->tensorflow) (0.4.1)\n",
            "Requirement already satisfied, skipping upgrade: markdown>=2.6.8 in /usr/local/lib/python3.6/dist-packages (from tensorboard<2.1.0,>=2.0.0->tensorflow) (3.1.1)\n",
            "Requirement already satisfied, skipping upgrade: h5py in /usr/local/lib/python3.6/dist-packages (from keras-applications>=1.0.8->tensorflow) (2.8.0)\n",
            "Requirement already satisfied, skipping upgrade: pyasn1>=0.1.3 in /usr/local/lib/python3.6/dist-packages (from rsa<4.1,>=3.1.4->google-auth) (0.4.8)\n",
            "Requirement already satisfied, skipping upgrade: jupyter-client in /usr/local/lib/python3.6/dist-packages (from ipykernel~=4.6.0->google-colab) (5.3.4)\n",
            "Requirement already satisfied, skipping upgrade: traitlets>=4.1.0 in /usr/local/lib/python3.6/dist-packages (from ipykernel~=4.6.0->google-colab) (4.3.3)\n",
            "Requirement already satisfied, skipping upgrade: pytz>=2017.2 in /usr/local/lib/python3.6/dist-packages (from pandas~=0.25.0; python_version >= \"3.0\"->google-colab) (2018.9)\n",
            "Requirement already satisfied, skipping upgrade: python-dateutil>=2.6.1 in /usr/local/lib/python3.6/dist-packages (from pandas~=0.25.0; python_version >= \"3.0\"->google-colab) (2.6.1)\n",
            "Requirement already satisfied, skipping upgrade: jinja2 in /usr/local/lib/python3.6/dist-packages (from notebook~=5.2.0->google-colab) (2.10.3)\n",
            "Requirement already satisfied, skipping upgrade: nbformat in /usr/local/lib/python3.6/dist-packages (from notebook~=5.2.0->google-colab) (4.4.0)\n",
            "Requirement already satisfied, skipping upgrade: nbconvert in /usr/local/lib/python3.6/dist-packages (from notebook~=5.2.0->google-colab) (5.6.1)\n",
            "Requirement already satisfied, skipping upgrade: ipython-genutils in /usr/local/lib/python3.6/dist-packages (from notebook~=5.2.0->google-colab) (0.2.0)\n",
            "Requirement already satisfied, skipping upgrade: terminado>=0.3.3; sys_platform != \"win32\" in /usr/local/lib/python3.6/dist-packages (from notebook~=5.2.0->google-colab) (0.8.3)\n",
            "Requirement already satisfied, skipping upgrade: jupyter-core in /usr/local/lib/python3.6/dist-packages (from notebook~=5.2.0->google-colab) (4.6.1)\n",
            "Requirement already satisfied, skipping upgrade: urllib3<1.25,>=1.21.1 in /usr/local/lib/python3.6/dist-packages (from requests~=2.21.0->google-colab) (1.24.3)\n",
            "Requirement already satisfied, skipping upgrade: idna<2.9,>=2.5 in /usr/local/lib/python3.6/dist-packages (from requests~=2.21.0->google-colab) (2.8)\n",
            "Requirement already satisfied, skipping upgrade: chardet<3.1.0,>=3.0.2 in /usr/local/lib/python3.6/dist-packages (from requests~=2.21.0->google-colab) (3.0.4)\n",
            "Requirement already satisfied, skipping upgrade: certifi>=2017.4.17 in /usr/local/lib/python3.6/dist-packages (from requests~=2.21.0->google-colab) (2019.11.28)\n",
            "Requirement already satisfied, skipping upgrade: simplegeneric>0.8 in /usr/local/lib/python3.6/dist-packages (from ipython~=5.5.0->google-colab) (0.8.1)\n",
            "Requirement already satisfied, skipping upgrade: pexpect; sys_platform != \"win32\" in /usr/local/lib/python3.6/dist-packages (from ipython~=5.5.0->google-colab) (4.7.0)\n",
            "Requirement already satisfied, skipping upgrade: pygments in /usr/local/lib/python3.6/dist-packages (from ipython~=5.5.0->google-colab) (2.1.3)\n",
            "Requirement already satisfied, skipping upgrade: decorator in /usr/local/lib/python3.6/dist-packages (from ipython~=5.5.0->google-colab) (4.4.1)\n",
            "Requirement already satisfied, skipping upgrade: prompt-toolkit<2.0.0,>=1.0.4 in /usr/local/lib/python3.6/dist-packages (from ipython~=5.5.0->google-colab) (1.0.18)\n",
            "Requirement already satisfied, skipping upgrade: pickleshare in /usr/local/lib/python3.6/dist-packages (from ipython~=5.5.0->google-colab) (0.7.5)\n",
            "Requirement already satisfied, skipping upgrade: requests-oauthlib>=0.7.0 in /usr/local/lib/python3.6/dist-packages (from google-auth-oauthlib<0.5,>=0.4.1->tensorboard<2.1.0,>=2.0.0->tensorflow) (1.3.0)\n",
            "Requirement already satisfied, skipping upgrade: pyzmq>=13 in /usr/local/lib/python3.6/dist-packages (from jupyter-client->ipykernel~=4.6.0->google-colab) (17.0.0)\n",
            "Requirement already satisfied, skipping upgrade: MarkupSafe>=0.23 in /usr/local/lib/python3.6/dist-packages (from jinja2->notebook~=5.2.0->google-colab) (1.1.1)\n",
            "Requirement already satisfied, skipping upgrade: jsonschema!=2.5.0,>=2.4 in /usr/local/lib/python3.6/dist-packages (from nbformat->notebook~=5.2.0->google-colab) (2.6.0)\n",
            "Requirement already satisfied, skipping upgrade: defusedxml in /usr/local/lib/python3.6/dist-packages (from nbconvert->notebook~=5.2.0->google-colab) (0.6.0)\n",
            "Requirement already satisfied, skipping upgrade: entrypoints>=0.2.2 in /usr/local/lib/python3.6/dist-packages (from nbconvert->notebook~=5.2.0->google-colab) (0.3)\n",
            "Requirement already satisfied, skipping upgrade: bleach in /usr/local/lib/python3.6/dist-packages (from nbconvert->notebook~=5.2.0->google-colab) (3.1.0)\n",
            "Requirement already satisfied, skipping upgrade: testpath in /usr/local/lib/python3.6/dist-packages (from nbconvert->notebook~=5.2.0->google-colab) (0.4.4)\n",
            "Requirement already satisfied, skipping upgrade: pandocfilters>=1.4.1 in /usr/local/lib/python3.6/dist-packages (from nbconvert->notebook~=5.2.0->google-colab) (1.4.2)\n",
            "Requirement already satisfied, skipping upgrade: mistune<2,>=0.8.1 in /usr/local/lib/python3.6/dist-packages (from nbconvert->notebook~=5.2.0->google-colab) (0.8.4)\n",
            "Requirement already satisfied, skipping upgrade: ptyprocess; os_name != \"nt\" in /usr/local/lib/python3.6/dist-packages (from terminado>=0.3.3; sys_platform != \"win32\"->notebook~=5.2.0->google-colab) (0.6.0)\n",
            "Requirement already satisfied, skipping upgrade: wcwidth in /usr/local/lib/python3.6/dist-packages (from prompt-toolkit<2.0.0,>=1.0.4->ipython~=5.5.0->google-colab) (0.1.7)\n",
            "Requirement already satisfied, skipping upgrade: oauthlib>=3.0.0 in /usr/local/lib/python3.6/dist-packages (from requests-oauthlib>=0.7.0->google-auth-oauthlib<0.5,>=0.4.1->tensorboard<2.1.0,>=2.0.0->tensorflow) (3.1.0)\n",
            "Requirement already satisfied, skipping upgrade: webencodings in /usr/local/lib/python3.6/dist-packages (from bleach->nbconvert->notebook~=5.2.0->google-colab) (0.5.1)\n"
          ],
          "name": "stdout"
        }
      ]
    },
    {
      "cell_type": "code",
      "metadata": {
        "id": "iNFAUn9j2iDU",
        "colab_type": "code",
        "colab": {
          "base_uri": "https://localhost:8080/",
          "height": 50
        },
        "outputId": "55c7cb71-36fa-4748-8818-9312f4413d7d"
      },
      "source": [
        "%load_ext tensorboard"
      ],
      "execution_count": 37,
      "outputs": [
        {
          "output_type": "stream",
          "text": [
            "The tensorboard extension is already loaded. To reload it, use:\n",
            "  %reload_ext tensorboard\n"
          ],
          "name": "stdout"
        }
      ]
    },
    {
      "cell_type": "code",
      "metadata": {
        "id": "fljH2vaMDFar",
        "colab_type": "code",
        "colab": {
          "base_uri": "https://localhost:8080/",
          "height": 373
        },
        "outputId": "c7b432d2-58d8-41c9-99b2-1ab0c8de56bf"
      },
      "source": [
        "!pip install --upgrade tensorflow-datasets"
      ],
      "execution_count": 38,
      "outputs": [
        {
          "output_type": "stream",
          "text": [
            "Requirement already up-to-date: tensorflow-datasets in /usr/local/lib/python3.6/dist-packages (1.3.2)\n",
            "Requirement already satisfied, skipping upgrade: future in /usr/local/lib/python3.6/dist-packages (from tensorflow-datasets) (0.16.0)\n",
            "Requirement already satisfied, skipping upgrade: requests>=2.19.0 in /usr/local/lib/python3.6/dist-packages (from tensorflow-datasets) (2.21.0)\n",
            "Requirement already satisfied, skipping upgrade: tqdm in /usr/local/lib/python3.6/dist-packages (from tensorflow-datasets) (4.28.1)\n",
            "Requirement already satisfied, skipping upgrade: absl-py in /usr/local/lib/python3.6/dist-packages (from tensorflow-datasets) (0.8.1)\n",
            "Requirement already satisfied, skipping upgrade: six in /usr/local/lib/python3.6/dist-packages (from tensorflow-datasets) (1.12.0)\n",
            "Requirement already satisfied, skipping upgrade: promise in /usr/local/lib/python3.6/dist-packages (from tensorflow-datasets) (2.2.1)\n",
            "Requirement already satisfied, skipping upgrade: tensorflow-metadata in /usr/local/lib/python3.6/dist-packages (from tensorflow-datasets) (0.15.1)\n",
            "Requirement already satisfied, skipping upgrade: attrs in /usr/local/lib/python3.6/dist-packages (from tensorflow-datasets) (19.3.0)\n",
            "Requirement already satisfied, skipping upgrade: wrapt in /usr/local/lib/python3.6/dist-packages (from tensorflow-datasets) (1.11.2)\n",
            "Requirement already satisfied, skipping upgrade: dill in /usr/local/lib/python3.6/dist-packages (from tensorflow-datasets) (0.3.1.1)\n",
            "Requirement already satisfied, skipping upgrade: numpy in /usr/local/lib/python3.6/dist-packages (from tensorflow-datasets) (1.17.4)\n",
            "Requirement already satisfied, skipping upgrade: termcolor in /usr/local/lib/python3.6/dist-packages (from tensorflow-datasets) (1.1.0)\n",
            "Requirement already satisfied, skipping upgrade: protobuf>=3.6.1 in /usr/local/lib/python3.6/dist-packages (from tensorflow-datasets) (3.10.0)\n",
            "Requirement already satisfied, skipping upgrade: urllib3<1.25,>=1.21.1 in /usr/local/lib/python3.6/dist-packages (from requests>=2.19.0->tensorflow-datasets) (1.24.3)\n",
            "Requirement already satisfied, skipping upgrade: chardet<3.1.0,>=3.0.2 in /usr/local/lib/python3.6/dist-packages (from requests>=2.19.0->tensorflow-datasets) (3.0.4)\n",
            "Requirement already satisfied, skipping upgrade: certifi>=2017.4.17 in /usr/local/lib/python3.6/dist-packages (from requests>=2.19.0->tensorflow-datasets) (2019.11.28)\n",
            "Requirement already satisfied, skipping upgrade: idna<2.9,>=2.5 in /usr/local/lib/python3.6/dist-packages (from requests>=2.19.0->tensorflow-datasets) (2.8)\n",
            "Requirement already satisfied, skipping upgrade: googleapis-common-protos in /usr/local/lib/python3.6/dist-packages (from tensorflow-metadata->tensorflow-datasets) (1.6.0)\n",
            "Requirement already satisfied, skipping upgrade: setuptools in /usr/local/lib/python3.6/dist-packages (from protobuf>=3.6.1->tensorflow-datasets) (42.0.2)\n"
          ],
          "name": "stdout"
        }
      ]
    },
    {
      "cell_type": "code",
      "metadata": {
        "id": "YUTcosAsFOyT",
        "colab_type": "code",
        "colab": {
          "base_uri": "https://localhost:8080/",
          "height": 34
        },
        "outputId": "acc25914-028c-48a2-d24d-7230d89df7ff"
      },
      "source": [
        "import tensorflow as tf\n",
        "import tensorflow.keras as k\n",
        "# import tensorflow-datasets as tfds required for downloading Tensorflow Datasets. Now currently using Keras datasets\n",
        "import matplotlib.pyplot as plt\n",
        "import numpy as np\n",
        "import datetime\n",
        "import os\n",
        "from tensorboard.plugins.hparams import api as hp\n",
        "\n",
        "print(tf.version.VERSION)"
      ],
      "execution_count": 39,
      "outputs": [
        {
          "output_type": "stream",
          "text": [
            "2.0.0\n"
          ],
          "name": "stdout"
        }
      ]
    },
    {
      "cell_type": "code",
      "metadata": {
        "id": "59h8e6BUEkeD",
        "colab_type": "code",
        "colab": {}
      },
      "source": [
        "# load the dataset into test and training sets.\n",
        "dataset = k.datasets.mnist.load_data(path='mnist.npz')\n",
        "(x_train, y_train), (x_test, y_test) = dataset"
      ],
      "execution_count": 0,
      "outputs": []
    },
    {
      "cell_type": "markdown",
      "metadata": {
        "id": "hsdvC0FwGETy",
        "colab_type": "text"
      },
      "source": [
        "Each element of x_test and x_train are 28 X 28 images (2-D int arrays) each which have values from 0-255.\n",
        "\n",
        "Each element of y_train and y_test is a value from 0-9 representing the classes.\n",
        "\n",
        "x_test and y_test are of lengths, 10000\n",
        "y_train and y_test are of lengths, 60000\n",
        "\n",
        "Therefore, training set is 60000 length and test set is 10000\n"
      ]
    },
    {
      "cell_type": "code",
      "metadata": {
        "id": "vMoktN2BF4V_",
        "colab_type": "code",
        "colab": {
          "base_uri": "https://localhost:8080/",
          "height": 50
        },
        "outputId": "34d9edae-a349-4a8a-8003-e126665e31ba"
      },
      "source": [
        "print(x_train.shape, y_train.shape)\n",
        "print(x_test.shape, y_test.shape)"
      ],
      "execution_count": 41,
      "outputs": [
        {
          "output_type": "stream",
          "text": [
            "(60000, 28, 28) (60000,)\n",
            "(10000, 28, 28) (10000,)\n"
          ],
          "name": "stdout"
        }
      ]
    },
    {
      "cell_type": "code",
      "metadata": {
        "id": "5vhsKhUBF3U1",
        "colab_type": "code",
        "colab": {}
      },
      "source": [
        "# a function to see a particular dataset\n",
        "def show_data(i):\n",
        "    plt.figure()\n",
        "    plt.imshow(x_test[i])\n",
        "    plt.colorbar()\n",
        "    plt.grid(False)\n",
        "    plt.show()\n",
        "\n",
        "    print(y_test[i])"
      ],
      "execution_count": 0,
      "outputs": []
    },
    {
      "cell_type": "code",
      "metadata": {
        "id": "xNTyQf8GEFjb",
        "colab_type": "code",
        "colab": {}
      },
      "source": [
        "def show_random_data():\n",
        "    random_sample = np.random.randint(0, len(x_test))\n",
        "    show_data(random_sample)\n",
        "\n",
        "def tensorboard_visualization_of_data():\n",
        "    image_log_dir = \"logs/model_logs/mnist_basic/\"\n",
        "    with tf.summary.create_file_writer(image_log_dir).as_default() as fw:\n",
        "        tf.summary.image(\"First 25 of test data\", x_test.reshape(-1, 28, 28, 1), step=0, max_outputs=25)"
      ],
      "execution_count": 0,
      "outputs": []
    },
    {
      "cell_type": "code",
      "metadata": {
        "id": "1ZZoHHIKH17i",
        "colab_type": "code",
        "colab": {
          "base_uri": "https://localhost:8080/",
          "height": 282
        },
        "outputId": "46028932-a717-42f7-9df1-83fcd3f8f837"
      },
      "source": [
        "show_random_data()\n",
        "tensorboard_visualization_of_data()"
      ],
      "execution_count": 44,
      "outputs": [
        {
          "output_type": "display_data",
          "data": {
            "image/png": "[encoded data removed]",
            "text/plain": [
              "<Figure size 432x288 with 2 Axes>"
            ]
          },
          "metadata": {
            "tags": []
          }
        },
        {
          "output_type": "stream",
          "text": [
            "2\n"
          ],
          "name": "stdout"
        }
      ]
    },
    {
      "cell_type": "code",
      "metadata": {
        "id": "DvHD9dfLNdxt",
        "colab_type": "code",
        "colab": {
          "base_uri": "https://localhost:8080/",
          "height": 34
        },
        "outputId": "11e10471-25f7-4225-b154-255871a355e3"
      },
      "source": [
        "# flattening the test and training set\n",
        "x_test_reshaped = x_test.reshape([-1, 28 * 28])\n",
        "x_train_reshaped = x_train.reshape([-1, 28 * 28])\n",
        "print(x_test.shape, x_train.shape)"
      ],
      "execution_count": 45,
      "outputs": [
        {
          "output_type": "stream",
          "text": [
            "(10000, 28, 28) (60000, 28, 28)\n"
          ],
          "name": "stdout"
        }
      ]
    },
    {
      "cell_type": "markdown",
      "metadata": {
        "id": "tszCAc7QySGX",
        "colab_type": "text"
      },
      "source": [
        "# First Iteration of model design\n",
        "\n",
        "##  Test Environment\n",
        "\n",
        "*   Using only one layer. Practically it is logistic regression.\n",
        "*   Using softmax output of 10 layers.\n",
        "*   Using RMSProp optimizer\n",
        "*   Epochs = 100\n",
        "\n"
      ]
    },
    {
      "cell_type": "code",
      "metadata": {
        "id": "qqtSxsNBu0qQ",
        "colab_type": "code",
        "colab": {}
      },
      "source": [
        "def create_model():\n",
        "    \"\"\"activation_hp = hp.HParam(\"Activation\", hp.Discrete(['sigmoid', 'relu', 'tanh']))\n",
        "    \n",
        "    with tf.summary.create_file_writer('logs/model_logs/mnist_basic').as_default() as fw:\n",
        "        hp.hparams_config(hparams=[activation_hp], \n",
        "                          metrics=[hp.Metric('accuracy', display_name='Accuracy'), \n",
        "                                                    hp.Metric('loss', display_name='Loss')])\"\"\"\n",
        "\n",
        "    model = k.Sequential(\n",
        "        k.layers.Dense(10, activation='relu', name='output-fc', input_shape=(28*28,))\n",
        "    )\n",
        "\n",
        "    model.compile(optimizer='rmsprop', loss='sparse_categorical_crossentropy', metrics=['categorical_accuracy'])\n",
        "    \n",
        "    return model"
      ],
      "execution_count": 0,
      "outputs": []
    },
    {
      "cell_type": "code",
      "metadata": {
        "id": "qd0sbbVg1E8F",
        "colab_type": "code",
        "colab": {}
      },
      "source": [
        "model = create_model()"
      ],
      "execution_count": 0,
      "outputs": []
    },
    {
      "cell_type": "code",
      "metadata": {
        "id": "Y5PTNnVZ2Me5",
        "colab_type": "code",
        "colab": {}
      },
      "source": [
        "checkpoint_filepath = 'saves/model-saves/mnist_basic.ckpt'\n",
        "checkpoint_dir = os.path.dirname(checkpoint_filepath)"
      ],
      "execution_count": 0,
      "outputs": []
    },
    {
      "cell_type": "code",
      "metadata": {
        "id": "EjMhxewa1JV6",
        "colab_type": "code",
        "colab": {
          "base_uri": "https://localhost:8080/",
          "height": 1000
        },
        "outputId": "0f52d536-efbe-4b02-c08c-662dc6539090"
      },
      "source": [
        "# Run the model\n",
        "my_log_dir = \"logs/model_logs/mnist_basic/\" + datetime.datetime.now().strftime('%Y-%m-%d  %H:%M:%S')\n",
        "tensorboard_callback = k.callbacks.TensorBoard(log_dir=my_log_dir, histogram_freq=1)\n",
        "checkpoint_callback = k.callbacks.ModelCheckpoint(checkpoint_filepath, verbose=1)\n",
        "\n",
        "history = model.fit(x_train_reshaped, y_train, \n",
        "                    verbose=1, epochs=100, \n",
        "                    callbacks=[tensorboard_callback, checkpoint_callback], \n",
        "                    validation_split=0.1)"
      ],
      "execution_count": 0,
      "outputs": [
        {
          "output_type": "stream",
          "text": [
            "Train on 54000 samples, validate on 6000 samples\n",
            "Epoch 1/100\n",
            "53600/54000 [============================>.] - ETA: 0s - loss: 2.2034 - categorical_accuracy: 0.9045\n",
            "Epoch 00001: saving model to saves/model-saves/mnist_basic.ckpt\n",
            "INFO:tensorflow:Assets written to: saves/model-saves/mnist_basic.ckpt/assets\n",
            "54000/54000 [==============================] - 3s 61us/sample - loss: 2.2038 - categorical_accuracy: 0.9046 - val_loss: 2.1909 - val_categorical_accuracy: 0.9048\n",
            "Epoch 2/100\n",
            "53120/54000 [============================>.] - ETA: 0s - loss: 2.2030 - categorical_accuracy: 0.9045\n",
            "Epoch 00002: saving model to saves/model-saves/mnist_basic.ckpt\n",
            "INFO:tensorflow:Assets written to: saves/model-saves/mnist_basic.ckpt/assets\n",
            "54000/54000 [==============================] - 3s 61us/sample - loss: 2.2038 - categorical_accuracy: 0.9046 - val_loss: 2.1909 - val_categorical_accuracy: 0.9048\n",
            "Epoch 3/100\n",
            "53536/54000 [============================>.] - ETA: 0s - loss: 2.2032 - categorical_accuracy: 0.9047\n",
            "Epoch 00003: saving model to saves/model-saves/mnist_basic.ckpt\n",
            "INFO:tensorflow:Assets written to: saves/model-saves/mnist_basic.ckpt/assets\n",
            "54000/54000 [==============================] - 3s 59us/sample - loss: 2.2038 - categorical_accuracy: 0.9046 - val_loss: 2.1909 - val_categorical_accuracy: 0.9048\n",
            "Epoch 4/100\n",
            "53856/54000 [============================>.] - ETA: 0s - loss: 2.2040 - categorical_accuracy: 0.9047\n",
            "Epoch 00004: saving model to saves/model-saves/mnist_basic.ckpt\n",
            "INFO:tensorflow:Assets written to: saves/model-saves/mnist_basic.ckpt/assets\n",
            "54000/54000 [==============================] - 3s 60us/sample - loss: 2.2038 - categorical_accuracy: 0.9046 - val_loss: 2.1909 - val_categorical_accuracy: 0.9048\n",
            "Epoch 5/100\n",
            "53664/54000 [============================>.] - ETA: 0s - loss: 2.2037 - categorical_accuracy: 0.9045\n",
            "Epoch 00005: saving model to saves/model-saves/mnist_basic.ckpt\n",
            "INFO:tensorflow:Assets written to: saves/model-saves/mnist_basic.ckpt/assets\n",
            "54000/54000 [==============================] - 3s 60us/sample - loss: 2.2038 - categorical_accuracy: 0.9046 - val_loss: 2.1909 - val_categorical_accuracy: 0.9048\n",
            "Epoch 6/100\n",
            "53056/54000 [============================>.] - ETA: 0s - loss: 2.2033 - categorical_accuracy: 0.9045\n",
            "Epoch 00006: saving model to saves/model-saves/mnist_basic.ckpt\n",
            "INFO:tensorflow:Assets written to: saves/model-saves/mnist_basic.ckpt/assets\n",
            "54000/54000 [==============================] - 3s 60us/sample - loss: 2.2038 - categorical_accuracy: 0.9046 - val_loss: 2.1909 - val_categorical_accuracy: 0.9048\n",
            "Epoch 7/100\n",
            "53952/54000 [============================>.] - ETA: 0s - loss: 2.2036 - categorical_accuracy: 0.9046\n",
            "Epoch 00007: saving model to saves/model-saves/mnist_basic.ckpt\n",
            "INFO:tensorflow:Assets written to: saves/model-saves/mnist_basic.ckpt/assets\n",
            "54000/54000 [==============================] - 3s 61us/sample - loss: 2.2038 - categorical_accuracy: 0.9046 - val_loss: 2.1909 - val_categorical_accuracy: 0.9048\n",
            "Epoch 8/100\n",
            "53184/54000 [============================>.] - ETA: 0s - loss: 2.2036 - categorical_accuracy: 0.9047\n",
            "Epoch 00008: saving model to saves/model-saves/mnist_basic.ckpt\n",
            "INFO:tensorflow:Assets written to: saves/model-saves/mnist_basic.ckpt/assets\n",
            "54000/54000 [==============================] - 3s 60us/sample - loss: 2.2038 - categorical_accuracy: 0.9046 - val_loss: 2.1909 - val_categorical_accuracy: 0.9048\n",
            "Epoch 9/100\n",
            "53792/54000 [============================>.] - ETA: 0s - loss: 2.2033 - categorical_accuracy: 0.9046\n",
            "Epoch 00009: saving model to saves/model-saves/mnist_basic.ckpt\n",
            "INFO:tensorflow:Assets written to: saves/model-saves/mnist_basic.ckpt/assets\n",
            "54000/54000 [==============================] - 4s 67us/sample - loss: 2.2038 - categorical_accuracy: 0.9046 - val_loss: 2.1909 - val_categorical_accuracy: 0.9048\n",
            "Epoch 10/100\n",
            "53504/54000 [============================>.] - ETA: 0s - loss: 2.2041 - categorical_accuracy: 0.9044\n",
            "Epoch 00010: saving model to saves/model-saves/mnist_basic.ckpt\n",
            "INFO:tensorflow:Assets written to: saves/model-saves/mnist_basic.ckpt/assets\n",
            "54000/54000 [==============================] - 3s 61us/sample - loss: 2.2038 - categorical_accuracy: 0.9046 - val_loss: 2.1909 - val_categorical_accuracy: 0.9048\n",
            "Epoch 11/100\n",
            "53504/54000 [============================>.] - ETA: 0s - loss: 2.2052 - categorical_accuracy: 0.9048\n",
            "Epoch 00011: saving model to saves/model-saves/mnist_basic.ckpt\n",
            "INFO:tensorflow:Assets written to: saves/model-saves/mnist_basic.ckpt/assets\n",
            "54000/54000 [==============================] - 3s 60us/sample - loss: 2.2038 - categorical_accuracy: 0.9046 - val_loss: 2.1909 - val_categorical_accuracy: 0.9048\n",
            "Epoch 12/100\n",
            "53216/54000 [============================>.] - ETA: 0s - loss: 2.2031 - categorical_accuracy: 0.9047\n",
            "Epoch 00012: saving model to saves/model-saves/mnist_basic.ckpt\n",
            "INFO:tensorflow:Assets written to: saves/model-saves/mnist_basic.ckpt/assets\n",
            "54000/54000 [==============================] - 3s 60us/sample - loss: 2.2038 - categorical_accuracy: 0.9046 - val_loss: 2.1909 - val_categorical_accuracy: 0.9048\n",
            "Epoch 13/100\n",
            "53216/54000 [============================>.] - ETA: 0s - loss: 2.2026 - categorical_accuracy: 0.9048\n",
            "Epoch 00013: saving model to saves/model-saves/mnist_basic.ckpt\n",
            "INFO:tensorflow:Assets written to: saves/model-saves/mnist_basic.ckpt/assets\n",
            "54000/54000 [==============================] - 3s 60us/sample - loss: 2.2038 - categorical_accuracy: 0.9046 - val_loss: 2.1909 - val_categorical_accuracy: 0.9048\n",
            "Epoch 14/100\n",
            "53920/54000 [============================>.] - ETA: 0s - loss: 2.2040 - categorical_accuracy: 0.9047\n",
            "Epoch 00014: saving model to saves/model-saves/mnist_basic.ckpt\n",
            "INFO:tensorflow:Assets written to: saves/model-saves/mnist_basic.ckpt/assets\n",
            "54000/54000 [==============================] - 3s 60us/sample - loss: 2.2038 - categorical_accuracy: 0.9046 - val_loss: 2.1909 - val_categorical_accuracy: 0.9048\n",
            "Epoch 15/100\n",
            "53824/54000 [============================>.] - ETA: 0s - loss: 2.2041 - categorical_accuracy: 0.9046\n",
            "Epoch 00015: saving model to saves/model-saves/mnist_basic.ckpt\n",
            "INFO:tensorflow:Assets written to: saves/model-saves/mnist_basic.ckpt/assets\n",
            "54000/54000 [==============================] - 3s 60us/sample - loss: 2.2038 - categorical_accuracy: 0.9046 - val_loss: 2.1909 - val_categorical_accuracy: 0.9048\n",
            "Epoch 16/100\n",
            "53440/54000 [============================>.] - ETA: 0s - loss: 2.2042 - categorical_accuracy: 0.9048\n",
            "Epoch 00016: saving model to saves/model-saves/mnist_basic.ckpt\n",
            "INFO:tensorflow:Assets written to: saves/model-saves/mnist_basic.ckpt/assets\n",
            "54000/54000 [==============================] - 3s 62us/sample - loss: 2.2038 - categorical_accuracy: 0.9046 - val_loss: 2.1909 - val_categorical_accuracy: 0.9048\n",
            "Epoch 17/100\n",
            "53888/54000 [============================>.] - ETA: 0s - loss: 2.2036 - categorical_accuracy: 0.9046\n",
            "Epoch 00017: saving model to saves/model-saves/mnist_basic.ckpt\n",
            "INFO:tensorflow:Assets written to: saves/model-saves/mnist_basic.ckpt/assets\n",
            "54000/54000 [==============================] - 3s 61us/sample - loss: 2.2038 - categorical_accuracy: 0.9046 - val_loss: 2.1909 - val_categorical_accuracy: 0.9048\n",
            "Epoch 18/100\n",
            "28608/54000 [==============>...............] - ETA: 1s - loss: 2.1996 - categorical_accuracy: 0.9073"
          ],
          "name": "stdout"
        }
      ]
    },
    {
      "cell_type": "code",
      "metadata": {
        "id": "lQjRAyHo4_a9",
        "colab_type": "code",
        "colab": {}
      },
      "source": [
        "%tensorboard --logdir \"logs/model_logs/mnist_basic/\""
      ],
      "execution_count": 0,
      "outputs": []
    },
    {
      "cell_type": "code",
      "metadata": {
        "id": "RMx96MMaEooY",
        "colab_type": "code",
        "colab": {}
      },
      "source": [
        ""
      ],
      "execution_count": 0,
      "outputs": []
    }
  ]
}