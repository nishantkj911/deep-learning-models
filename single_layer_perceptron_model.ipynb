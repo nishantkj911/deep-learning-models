{
  "nbformat": 4,
  "nbformat_minor": 0,
  "metadata": {
    "colab": {
      "name": "single-layer-perceptron-model.ipynb",
      "provenance": [],
      "collapsed_sections": [],
      "include_colab_link": true
    },
    "kernelspec": {
      "name": "python3",
      "display_name": "Python 3"
    },
    "accelerator": "TPU"
  },
  "cells": [
    {
      "cell_type": "markdown",
      "metadata": {
        "id": "view-in-github",
        "colab_type": "text"
      },
      "source": [
        "<a href=\"https://colab.research.google.com/github/nishantkj911/deep-learning-models/blob/master/single_layer_perceptron_model.ipynb\" target=\"_parent\"><img src=\"https://colab.research.google.com/assets/colab-badge.svg\" alt=\"Open In Colab\"/></a>"
      ]
    },
    {
      "cell_type": "code",
      "metadata": {
        "id": "y2YBKINnvWPa",
        "colab_type": "code",
        "colab": {
          "base_uri": "https://localhost:8080/",
          "height": 608
        },
        "outputId": "1d1544c4-be2a-4901-e70a-700f40144d49"
      },
      "source": [
        "pip install tensorflow==2.0"
      ],
      "execution_count": 1,
      "outputs": [
        {
          "output_type": "stream",
          "text": [
            "Requirement already satisfied: tensorflow==2.0 in /usr/local/lib/python3.6/dist-packages (2.0.0)\n",
            "Requirement already satisfied: termcolor>=1.1.0 in /usr/local/lib/python3.6/dist-packages (from tensorflow==2.0) (1.1.0)\n",
            "Requirement already satisfied: grpcio>=1.8.6 in /usr/local/lib/python3.6/dist-packages (from tensorflow==2.0) (1.15.0)\n",
            "Requirement already satisfied: protobuf>=3.6.1 in /usr/local/lib/python3.6/dist-packages (from tensorflow==2.0) (3.10.0)\n",
            "Requirement already satisfied: keras-applications>=1.0.8 in /usr/local/lib/python3.6/dist-packages (from tensorflow==2.0) (1.0.8)\n",
            "Requirement already satisfied: keras-preprocessing>=1.0.5 in /usr/local/lib/python3.6/dist-packages (from tensorflow==2.0) (1.1.0)\n",
            "Requirement already satisfied: wrapt>=1.11.1 in /usr/local/lib/python3.6/dist-packages (from tensorflow==2.0) (1.11.2)\n",
            "Requirement already satisfied: gast==0.2.2 in /usr/local/lib/python3.6/dist-packages (from tensorflow==2.0) (0.2.2)\n",
            "Requirement already satisfied: google-pasta>=0.1.6 in /usr/local/lib/python3.6/dist-packages (from tensorflow==2.0) (0.1.8)\n",
            "Requirement already satisfied: absl-py>=0.7.0 in /usr/local/lib/python3.6/dist-packages (from tensorflow==2.0) (0.8.1)\n",
            "Requirement already satisfied: tensorflow-estimator<2.1.0,>=2.0.0 in /usr/local/lib/python3.6/dist-packages (from tensorflow==2.0) (2.0.1)\n",
            "Requirement already satisfied: numpy<2.0,>=1.16.0 in /usr/local/lib/python3.6/dist-packages (from tensorflow==2.0) (1.17.4)\n",
            "Requirement already satisfied: opt-einsum>=2.3.2 in /usr/local/lib/python3.6/dist-packages (from tensorflow==2.0) (3.1.0)\n",
            "Requirement already satisfied: six>=1.10.0 in /usr/local/lib/python3.6/dist-packages (from tensorflow==2.0) (1.12.0)\n",
            "Requirement already satisfied: tensorboard<2.1.0,>=2.0.0 in /usr/local/lib/python3.6/dist-packages (from tensorflow==2.0) (2.0.2)\n",
            "Requirement already satisfied: wheel>=0.26 in /usr/local/lib/python3.6/dist-packages (from tensorflow==2.0) (0.33.6)\n",
            "Requirement already satisfied: astor>=0.6.0 in /usr/local/lib/python3.6/dist-packages (from tensorflow==2.0) (0.8.1)\n",
            "Requirement already satisfied: setuptools in /usr/local/lib/python3.6/dist-packages (from protobuf>=3.6.1->tensorflow==2.0) (42.0.2)\n",
            "Requirement already satisfied: h5py in /usr/local/lib/python3.6/dist-packages (from keras-applications>=1.0.8->tensorflow==2.0) (2.8.0)\n",
            "Requirement already satisfied: google-auth<2,>=1.6.3 in /usr/local/lib/python3.6/dist-packages (from tensorboard<2.1.0,>=2.0.0->tensorflow==2.0) (1.10.0)\n",
            "Requirement already satisfied: requests<3,>=2.21.0 in /usr/local/lib/python3.6/dist-packages (from tensorboard<2.1.0,>=2.0.0->tensorflow==2.0) (2.21.0)\n",
            "Requirement already satisfied: google-auth-oauthlib<0.5,>=0.4.1 in /usr/local/lib/python3.6/dist-packages (from tensorboard<2.1.0,>=2.0.0->tensorflow==2.0) (0.4.1)\n",
            "Requirement already satisfied: werkzeug>=0.11.15 in /usr/local/lib/python3.6/dist-packages (from tensorboard<2.1.0,>=2.0.0->tensorflow==2.0) (0.16.0)\n",
            "Requirement already satisfied: markdown>=2.6.8 in /usr/local/lib/python3.6/dist-packages (from tensorboard<2.1.0,>=2.0.0->tensorflow==2.0) (3.1.1)\n",
            "Requirement already satisfied: pyasn1-modules>=0.2.1 in /usr/local/lib/python3.6/dist-packages (from google-auth<2,>=1.6.3->tensorboard<2.1.0,>=2.0.0->tensorflow==2.0) (0.2.7)\n",
            "Requirement already satisfied: rsa<4.1,>=3.1.4 in /usr/local/lib/python3.6/dist-packages (from google-auth<2,>=1.6.3->tensorboard<2.1.0,>=2.0.0->tensorflow==2.0) (4.0)\n",
            "Requirement already satisfied: cachetools<5.0,>=2.0.0 in /usr/local/lib/python3.6/dist-packages (from google-auth<2,>=1.6.3->tensorboard<2.1.0,>=2.0.0->tensorflow==2.0) (4.0.0)\n",
            "Requirement already satisfied: certifi>=2017.4.17 in /usr/local/lib/python3.6/dist-packages (from requests<3,>=2.21.0->tensorboard<2.1.0,>=2.0.0->tensorflow==2.0) (2019.11.28)\n",
            "Requirement already satisfied: urllib3<1.25,>=1.21.1 in /usr/local/lib/python3.6/dist-packages (from requests<3,>=2.21.0->tensorboard<2.1.0,>=2.0.0->tensorflow==2.0) (1.24.3)\n",
            "Requirement already satisfied: idna<2.9,>=2.5 in /usr/local/lib/python3.6/dist-packages (from requests<3,>=2.21.0->tensorboard<2.1.0,>=2.0.0->tensorflow==2.0) (2.8)\n",
            "Requirement already satisfied: chardet<3.1.0,>=3.0.2 in /usr/local/lib/python3.6/dist-packages (from requests<3,>=2.21.0->tensorboard<2.1.0,>=2.0.0->tensorflow==2.0) (3.0.4)\n",
            "Requirement already satisfied: requests-oauthlib>=0.7.0 in /usr/local/lib/python3.6/dist-packages (from google-auth-oauthlib<0.5,>=0.4.1->tensorboard<2.1.0,>=2.0.0->tensorflow==2.0) (1.3.0)\n",
            "Requirement already satisfied: pyasn1<0.5.0,>=0.4.6 in /usr/local/lib/python3.6/dist-packages (from pyasn1-modules>=0.2.1->google-auth<2,>=1.6.3->tensorboard<2.1.0,>=2.0.0->tensorflow==2.0) (0.4.8)\n",
            "Requirement already satisfied: oauthlib>=3.0.0 in /usr/local/lib/python3.6/dist-packages (from requests-oauthlib>=0.7.0->google-auth-oauthlib<0.5,>=0.4.1->tensorboard<2.1.0,>=2.0.0->tensorflow==2.0) (3.1.0)\n"
          ],
          "name": "stdout"
        }
      ]
    },
    {
      "cell_type": "code",
      "metadata": {
        "id": "HG_y-c_npWgS",
        "colab_type": "code",
        "colab": {
          "base_uri": "https://localhost:8080/",
          "height": 34
        },
        "outputId": "a7e6e058-a84b-4035-be4c-c244ee7ac537"
      },
      "source": [
        "import tensorflow as tf\n",
        "import tensorflow.keras as k\n",
        "import numpy as np\n",
        "tf.version"
      ],
      "execution_count": 2,
      "outputs": [
        {
          "output_type": "execute_result",
          "data": {
            "text/plain": [
              "<module 'tensorflow_core._api.v2.version' from '/usr/local/lib/python3.6/dist-packages/tensorflow_core/_api/v2/version/__init__.py'>"
            ]
          },
          "metadata": {
            "tags": []
          },
          "execution_count": 2
        }
      ]
    },
    {
      "cell_type": "code",
      "metadata": {
        "id": "VyGO1V5np0cp",
        "colab_type": "code",
        "colab": {}
      },
      "source": [
        "# create the dataset\n",
        "np.random.seed(1)\n",
        "\n",
        "arr = np.random.rand(10000)\n",
        "mean = arr.mean()\n",
        "arr = arr - mean\n",
        "x = arr + 0.4\n",
        "mean = arr.mean()\n",
        "y = (arr > mean).astype(float)\n",
        "\n",
        "# split training and test sets\n",
        "train_x = x[:8000]\n",
        "train_y = y[:8000]\n",
        "\n",
        "test_y = y[8000:]\n",
        "test_x = x[8000:]"
      ],
      "execution_count": 0,
      "outputs": []
    },
    {
      "cell_type": "code",
      "metadata": {
        "id": "ZnzIDwPyG01L",
        "colab_type": "code",
        "colab": {
          "base_uri": "https://localhost:8080/",
          "height": 101
        },
        "outputId": "69ea7e43-2b9e-4873-ba3f-1065514b03cd"
      },
      "source": [
        "print(train_x, test_x, y)\n",
        "print(test_x.shape)\n",
        "print(train_x.shape)"
      ],
      "execution_count": 4,
      "outputs": [
        {
          "output_type": "stream",
          "text": [
            "[ 0.31902557  0.62232806 -0.09788206 ...  0.57666236  0.58623429\n",
            "  0.72339488] [ 0.26666725  0.57475309  0.45508002 ... -0.03846274  0.01004722\n",
            "  0.66479734] [0. 1. 0. ... 0. 0. 1.]\n",
            "(2000,)\n",
            "(8000,)\n"
          ],
          "name": "stdout"
        }
      ]
    },
    {
      "cell_type": "code",
      "metadata": {
        "id": "lJP2R7NS-MIl",
        "colab_type": "code",
        "colab": {}
      },
      "source": [
        "# create my activation function\n",
        "\n",
        "def threshold_activation(v):\n",
        "    return k.backend.round(k.backend.sigmoid(v))\n",
        "\n",
        "# define a loss function\n",
        "def loss_function(y, y_hat):\n",
        "    e = y - y_hat\n",
        "    E = 0.5 * e ** 2\n",
        "    return E"
      ],
      "execution_count": 0,
      "outputs": []
    },
    {
      "cell_type": "code",
      "metadata": {
        "id": "fPuamCzu8r6X",
        "colab_type": "code",
        "colab": {}
      },
      "source": [
        "# create a model\n",
        "def create_model():\n",
        "    model = tf.keras.Sequential([\n",
        "        tf.keras.layers.Dense(1, input_shape=(1,), activation='relu')\n",
        "    ])\n",
        "\n",
        "    model.compile(loss='mse', optimizer=tf.keras.optimizers.RMSprop(0.001), metrics=['accuracy'])\n",
        "\n",
        "    return model"
      ],
      "execution_count": 0,
      "outputs": []
    },
    {
      "cell_type": "code",
      "metadata": {
        "id": "7A8hLBSdAPBS",
        "colab_type": "code",
        "colab": {
          "base_uri": "https://localhost:8080/",
          "height": 722
        },
        "outputId": "c9385132-f53d-4d60-ad19-af1286b0aff2"
      },
      "source": [
        "model = create_model()\n",
        "model.fit(train_x, train_y, epochs=20, verbose=2, validation_split=0.2)"
      ],
      "execution_count": 7,
      "outputs": [
        {
          "output_type": "stream",
          "text": [
            "Train on 6400 samples, validate on 1600 samples\n",
            "Epoch 1/20\n",
            "6400/6400 - 1s - loss: 0.1386 - accuracy: 0.8123 - val_loss: 0.1048 - val_accuracy: 0.9800\n",
            "Epoch 2/20\n",
            "6400/6400 - 0s - loss: 0.0952 - accuracy: 0.9781 - val_loss: 0.0883 - val_accuracy: 0.9613\n",
            "Epoch 3/20\n",
            "6400/6400 - 0s - loss: 0.0805 - accuracy: 0.9762 - val_loss: 0.0762 - val_accuracy: 0.9663\n",
            "Epoch 4/20\n",
            "6400/6400 - 0s - loss: 0.0709 - accuracy: 0.9789 - val_loss: 0.0673 - val_accuracy: 0.9906\n",
            "Epoch 5/20\n",
            "6400/6400 - 0s - loss: 0.0646 - accuracy: 0.9903 - val_loss: 0.0623 - val_accuracy: 1.0000\n",
            "Epoch 6/20\n",
            "6400/6400 - 0s - loss: 0.0611 - accuracy: 0.9969 - val_loss: 0.0596 - val_accuracy: 0.9962\n",
            "Epoch 7/20\n",
            "6400/6400 - 0s - loss: 0.0594 - accuracy: 0.9945 - val_loss: 0.0580 - val_accuracy: 0.9944\n",
            "Epoch 8/20\n",
            "6400/6400 - 0s - loss: 0.0583 - accuracy: 0.9925 - val_loss: 0.0568 - val_accuracy: 0.9831\n",
            "Epoch 9/20\n",
            "6400/6400 - 0s - loss: 0.0577 - accuracy: 0.9878 - val_loss: 0.0563 - val_accuracy: 0.9831\n",
            "Epoch 10/20\n",
            "6400/6400 - 0s - loss: 0.0573 - accuracy: 0.9866 - val_loss: 0.0557 - val_accuracy: 0.9800\n",
            "Epoch 11/20\n",
            "6400/6400 - 0s - loss: 0.0571 - accuracy: 0.9822 - val_loss: 0.0555 - val_accuracy: 0.9800\n",
            "Epoch 12/20\n",
            "6400/6400 - 0s - loss: 0.0570 - accuracy: 0.9827 - val_loss: 0.0552 - val_accuracy: 0.9775\n",
            "Epoch 13/20\n",
            "6400/6400 - 0s - loss: 0.0569 - accuracy: 0.9794 - val_loss: 0.0552 - val_accuracy: 0.9800\n",
            "Epoch 14/20\n",
            "6400/6400 - 0s - loss: 0.0568 - accuracy: 0.9797 - val_loss: 0.0551 - val_accuracy: 0.9787\n",
            "Epoch 15/20\n",
            "6400/6400 - 0s - loss: 0.0568 - accuracy: 0.9797 - val_loss: 0.0550 - val_accuracy: 0.9769\n",
            "Epoch 16/20\n",
            "6400/6400 - 0s - loss: 0.0568 - accuracy: 0.9777 - val_loss: 0.0550 - val_accuracy: 0.9787\n",
            "Epoch 17/20\n",
            "6400/6400 - 0s - loss: 0.0568 - accuracy: 0.9783 - val_loss: 0.0549 - val_accuracy: 0.9769\n",
            "Epoch 18/20\n",
            "6400/6400 - 0s - loss: 0.0568 - accuracy: 0.9766 - val_loss: 0.0549 - val_accuracy: 0.9781\n",
            "Epoch 19/20\n",
            "6400/6400 - 0s - loss: 0.0568 - accuracy: 0.9780 - val_loss: 0.0548 - val_accuracy: 0.9744\n",
            "Epoch 20/20\n",
            "6400/6400 - 0s - loss: 0.0567 - accuracy: 0.9756 - val_loss: 0.0547 - val_accuracy: 0.9744\n"
          ],
          "name": "stdout"
        },
        {
          "output_type": "execute_result",
          "data": {
            "text/plain": [
              "<tensorflow.python.keras.callbacks.History at 0x7fd9129696d8>"
            ]
          },
          "metadata": {
            "tags": []
          },
          "execution_count": 7
        }
      ]
    },
    {
      "cell_type": "code",
      "metadata": {
        "id": "CjGlBQXIDHCr",
        "colab_type": "code",
        "colab": {
          "base_uri": "https://localhost:8080/",
          "height": 185
        },
        "outputId": "049030d5-836a-4e80-8c05-ee4aa4d9b7d4"
      },
      "source": [
        "model.summary()"
      ],
      "execution_count": 8,
      "outputs": [
        {
          "output_type": "stream",
          "text": [
            "Model: \"sequential\"\n",
            "_________________________________________________________________\n",
            "Layer (type)                 Output Shape              Param #   \n",
            "=================================================================\n",
            "dense (Dense)                (None, 1)                 2         \n",
            "=================================================================\n",
            "Total params: 2\n",
            "Trainable params: 2\n",
            "Non-trainable params: 0\n",
            "_________________________________________________________________\n"
          ],
          "name": "stdout"
        }
      ]
    },
    {
      "cell_type": "code",
      "metadata": {
        "id": "PK9gGlsTN24V",
        "colab_type": "code",
        "colab": {
          "base_uri": "https://localhost:8080/",
          "height": 50
        },
        "outputId": "72426692-cda2-4504-b217-e6f7baf86a4f"
      },
      "source": [
        "model.evaluate(test_x, test_y, verbose=2)"
      ],
      "execution_count": 9,
      "outputs": [
        {
          "output_type": "stream",
          "text": [
            "2000/1 - 0s - loss: 0.0564 - accuracy: 0.9690\n"
          ],
          "name": "stdout"
        },
        {
          "output_type": "execute_result",
          "data": {
            "text/plain": [
              "[0.056908852845430374, 0.969]"
            ]
          },
          "metadata": {
            "tags": []
          },
          "execution_count": 9
        }
      ]
    },
    {
      "cell_type": "code",
      "metadata": {
        "id": "Jq-VocMhQYEZ",
        "colab_type": "code",
        "colab": {
          "base_uri": "https://localhost:8080/",
          "height": 134
        },
        "outputId": "ce6456e7-6f63-4d17-e061-67d23d038f39"
      },
      "source": [
        "model.predict(test_x)"
      ],
      "execution_count": 10,
      "outputs": [
        {
          "output_type": "execute_result",
          "data": {
            "text/plain": [
              "array([[0.21978498],\n",
              "       [0.7563861 ],\n",
              "       [0.5479484 ],\n",
              "       ...,\n",
              "       [0.        ],\n",
              "       [0.        ],\n",
              "       [0.91321856]], dtype=float32)"
            ]
          },
          "metadata": {
            "tags": []
          },
          "execution_count": 10
        }
      ]
    }
  ]
}