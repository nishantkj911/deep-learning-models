{
  "nbformat": 4,
  "nbformat_minor": 0,
  "metadata": {
    "colab": {
      "name": "single-layer-perceptron-model.ipynb",
      "provenance": [],
      "collapsed_sections": [],
      "include_colab_link": true
    },
    "kernelspec": {
      "name": "python3",
      "display_name": "Python 3"
    },
    "accelerator": "TPU"
  },
  "cells": [
    {
      "cell_type": "markdown",
      "metadata": {
        "id": "view-in-github",
        "colab_type": "text"
      },
      "source": [
        "<a href=\"https://colab.research.google.com/github/nishantkj911/deep-learning-models/blob/master/single_layer_perceptron_model.ipynb\" target=\"_parent\"><img src=\"https://colab.research.google.com/assets/colab-badge.svg\" alt=\"Open In Colab\"/></a>"
      ]
    },
    {
      "cell_type": "code",
      "metadata": {
        "id": "y2YBKINnvWPa",
        "colab_type": "code",
        "colab": {
          "base_uri": "https://localhost:8080/",
          "height": 608
        },
        "outputId": "ffe4e128-09d3-4bbd-de6a-c7e8b685da8e"
      },
      "source": [
        "pip install tensorflow==2.0"
      ],
      "execution_count": 1,
      "outputs": [
        {
          "output_type": "stream",
          "text": [
            "Requirement already satisfied: tensorflow==2.0 in /usr/local/lib/python3.6/dist-packages (2.0.0)\n",
            "Requirement already satisfied: protobuf>=3.6.1 in /usr/local/lib/python3.6/dist-packages (from tensorflow==2.0) (3.10.0)\n",
            "Requirement already satisfied: numpy<2.0,>=1.16.0 in /usr/local/lib/python3.6/dist-packages (from tensorflow==2.0) (1.17.4)\n",
            "Requirement already satisfied: wheel>=0.26 in /usr/local/lib/python3.6/dist-packages (from tensorflow==2.0) (0.33.6)\n",
            "Requirement already satisfied: absl-py>=0.7.0 in /usr/local/lib/python3.6/dist-packages (from tensorflow==2.0) (0.8.1)\n",
            "Requirement already satisfied: tensorboard<2.1.0,>=2.0.0 in /usr/local/lib/python3.6/dist-packages (from tensorflow==2.0) (2.0.2)\n",
            "Requirement already satisfied: gast==0.2.2 in /usr/local/lib/python3.6/dist-packages (from tensorflow==2.0) (0.2.2)\n",
            "Requirement already satisfied: keras-applications>=1.0.8 in /usr/local/lib/python3.6/dist-packages (from tensorflow==2.0) (1.0.8)\n",
            "Requirement already satisfied: astor>=0.6.0 in /usr/local/lib/python3.6/dist-packages (from tensorflow==2.0) (0.8.1)\n",
            "Requirement already satisfied: termcolor>=1.1.0 in /usr/local/lib/python3.6/dist-packages (from tensorflow==2.0) (1.1.0)\n",
            "Requirement already satisfied: opt-einsum>=2.3.2 in /usr/local/lib/python3.6/dist-packages (from tensorflow==2.0) (3.1.0)\n",
            "Requirement already satisfied: grpcio>=1.8.6 in /usr/local/lib/python3.6/dist-packages (from tensorflow==2.0) (1.15.0)\n",
            "Requirement already satisfied: google-pasta>=0.1.6 in /usr/local/lib/python3.6/dist-packages (from tensorflow==2.0) (0.1.8)\n",
            "Requirement already satisfied: wrapt>=1.11.1 in /usr/local/lib/python3.6/dist-packages (from tensorflow==2.0) (1.11.2)\n",
            "Requirement already satisfied: six>=1.10.0 in /usr/local/lib/python3.6/dist-packages (from tensorflow==2.0) (1.12.0)\n",
            "Requirement already satisfied: keras-preprocessing>=1.0.5 in /usr/local/lib/python3.6/dist-packages (from tensorflow==2.0) (1.1.0)\n",
            "Requirement already satisfied: tensorflow-estimator<2.1.0,>=2.0.0 in /usr/local/lib/python3.6/dist-packages (from tensorflow==2.0) (2.0.1)\n",
            "Requirement already satisfied: setuptools in /usr/local/lib/python3.6/dist-packages (from protobuf>=3.6.1->tensorflow==2.0) (42.0.2)\n",
            "Requirement already satisfied: werkzeug>=0.11.15 in /usr/local/lib/python3.6/dist-packages (from tensorboard<2.1.0,>=2.0.0->tensorflow==2.0) (0.16.0)\n",
            "Requirement already satisfied: markdown>=2.6.8 in /usr/local/lib/python3.6/dist-packages (from tensorboard<2.1.0,>=2.0.0->tensorflow==2.0) (3.1.1)\n",
            "Requirement already satisfied: google-auth<2,>=1.6.3 in /usr/local/lib/python3.6/dist-packages (from tensorboard<2.1.0,>=2.0.0->tensorflow==2.0) (1.10.0)\n",
            "Requirement already satisfied: google-auth-oauthlib<0.5,>=0.4.1 in /usr/local/lib/python3.6/dist-packages (from tensorboard<2.1.0,>=2.0.0->tensorflow==2.0) (0.4.1)\n",
            "Requirement already satisfied: requests<3,>=2.21.0 in /usr/local/lib/python3.6/dist-packages (from tensorboard<2.1.0,>=2.0.0->tensorflow==2.0) (2.21.0)\n",
            "Requirement already satisfied: h5py in /usr/local/lib/python3.6/dist-packages (from keras-applications>=1.0.8->tensorflow==2.0) (2.8.0)\n",
            "Requirement already satisfied: rsa<4.1,>=3.1.4 in /usr/local/lib/python3.6/dist-packages (from google-auth<2,>=1.6.3->tensorboard<2.1.0,>=2.0.0->tensorflow==2.0) (4.0)\n",
            "Requirement already satisfied: cachetools<5.0,>=2.0.0 in /usr/local/lib/python3.6/dist-packages (from google-auth<2,>=1.6.3->tensorboard<2.1.0,>=2.0.0->tensorflow==2.0) (4.0.0)\n",
            "Requirement already satisfied: pyasn1-modules>=0.2.1 in /usr/local/lib/python3.6/dist-packages (from google-auth<2,>=1.6.3->tensorboard<2.1.0,>=2.0.0->tensorflow==2.0) (0.2.7)\n",
            "Requirement already satisfied: requests-oauthlib>=0.7.0 in /usr/local/lib/python3.6/dist-packages (from google-auth-oauthlib<0.5,>=0.4.1->tensorboard<2.1.0,>=2.0.0->tensorflow==2.0) (1.3.0)\n",
            "Requirement already satisfied: chardet<3.1.0,>=3.0.2 in /usr/local/lib/python3.6/dist-packages (from requests<3,>=2.21.0->tensorboard<2.1.0,>=2.0.0->tensorflow==2.0) (3.0.4)\n",
            "Requirement already satisfied: certifi>=2017.4.17 in /usr/local/lib/python3.6/dist-packages (from requests<3,>=2.21.0->tensorboard<2.1.0,>=2.0.0->tensorflow==2.0) (2019.11.28)\n",
            "Requirement already satisfied: idna<2.9,>=2.5 in /usr/local/lib/python3.6/dist-packages (from requests<3,>=2.21.0->tensorboard<2.1.0,>=2.0.0->tensorflow==2.0) (2.8)\n",
            "Requirement already satisfied: urllib3<1.25,>=1.21.1 in /usr/local/lib/python3.6/dist-packages (from requests<3,>=2.21.0->tensorboard<2.1.0,>=2.0.0->tensorflow==2.0) (1.24.3)\n",
            "Requirement already satisfied: pyasn1>=0.1.3 in /usr/local/lib/python3.6/dist-packages (from rsa<4.1,>=3.1.4->google-auth<2,>=1.6.3->tensorboard<2.1.0,>=2.0.0->tensorflow==2.0) (0.4.8)\n",
            "Requirement already satisfied: oauthlib>=3.0.0 in /usr/local/lib/python3.6/dist-packages (from requests-oauthlib>=0.7.0->google-auth-oauthlib<0.5,>=0.4.1->tensorboard<2.1.0,>=2.0.0->tensorflow==2.0) (3.1.0)\n"
          ],
          "name": "stdout"
        }
      ]
    },
    {
      "cell_type": "code",
      "metadata": {
        "id": "HG_y-c_npWgS",
        "colab_type": "code",
        "colab": {
          "base_uri": "https://localhost:8080/",
          "height": 34
        },
        "outputId": "65b804c9-7d67-416e-cc8b-1222ef241a51"
      },
      "source": [
        "import tensorflow as tf\n",
        "import tensorflow.keras as k\n",
        "import numpy as np\n",
        "tf.version"
      ],
      "execution_count": 2,
      "outputs": [
        {
          "output_type": "execute_result",
          "data": {
            "text/plain": [
              "<module 'tensorflow_core._api.v2.version' from '/usr/local/lib/python3.6/dist-packages/tensorflow_core/_api/v2/version/__init__.py'>"
            ]
          },
          "metadata": {
            "tags": []
          },
          "execution_count": 2
        }
      ]
    },
    {
      "cell_type": "code",
      "metadata": {
        "id": "VyGO1V5np0cp",
        "colab_type": "code",
        "colab": {}
      },
      "source": [
        "# create the dataset\n",
        "np.random.seed(1)\n",
        "\n",
        "arr = np.random.rand(10000)\n",
        "mean = arr.mean()\n",
        "arr = arr - mean\n",
        "x = arr + 0.4\n",
        "mean = arr.mean()\n",
        "y = (arr > mean).astype(float)\n",
        "\n",
        "# split training and test sets\n",
        "train_x = x[:8000]\n",
        "train_y = y[:8000]\n",
        "\n",
        "test_y = y[8000:]\n",
        "test_x = x[8000:]"
      ],
      "execution_count": 0,
      "outputs": []
    },
    {
      "cell_type": "code",
      "metadata": {
        "id": "ZnzIDwPyG01L",
        "colab_type": "code",
        "colab": {
          "base_uri": "https://localhost:8080/",
          "height": 101
        },
        "outputId": "99216347-7a7f-45ec-d128-224aaf2ca23b"
      },
      "source": [
        "print(train_x, test_x, y)\n",
        "print(test_x.shape)\n",
        "print(train_x.shape)"
      ],
      "execution_count": 4,
      "outputs": [
        {
          "output_type": "stream",
          "text": [
            "[ 0.31902557  0.62232806 -0.09788206 ...  0.57666236  0.58623429\n",
            "  0.72339488] [ 0.26666725  0.57475309  0.45508002 ... -0.03846274  0.01004722\n",
            "  0.66479734] [0. 1. 0. ... 0. 0. 1.]\n",
            "(2000,)\n",
            "(8000,)\n"
          ],
          "name": "stdout"
        }
      ]
    },
    {
      "cell_type": "code",
      "metadata": {
        "id": "fPuamCzu8r6X",
        "colab_type": "code",
        "colab": {}
      },
      "source": [
        "# create a model\n",
        "def create_model():\n",
        "    model = tf.keras.Sequential(name='slp')\n",
        "    model.add(k.layers.Dense(1, input_shape=(1,)))\n",
        "    model.add(k.layers.Activation('sigmoid'))\n",
        "\n",
        "    model.compile(loss='mse', optimizer=tf.keras.optimizers.RMSprop(0.001), metrics=['accuracy'])\n",
        "\n",
        "    return model"
      ],
      "execution_count": 0,
      "outputs": []
    },
    {
      "cell_type": "code",
      "metadata": {
        "id": "7A8hLBSdAPBS",
        "colab_type": "code",
        "colab": {
          "base_uri": "https://localhost:8080/",
          "height": 1000
        },
        "outputId": "d500f090-d43c-4d5c-e80a-18cefbe2f527"
      },
      "source": [
        "model = create_model()\n",
        "model.fit(train_x, train_y, epochs=200, verbose=1, validation_split=0.2)"
      ],
      "execution_count": 37,
      "outputs": [
        {
          "output_type": "stream",
          "text": [
            "Train on 6400 samples, validate on 1600 samples\n",
            "Epoch 1/200\n",
            "6400/6400 [==============================] - 1s 101us/sample - loss: 0.3444 - accuracy: 0.3353 - val_loss: 0.3282 - val_accuracy: 0.3056\n",
            "Epoch 2/200\n",
            "6400/6400 [==============================] - 0s 55us/sample - loss: 0.3254 - accuracy: 0.2242 - val_loss: 0.3134 - val_accuracy: 0.1869\n",
            "Epoch 3/200\n",
            "6400/6400 [==============================] - 0s 53us/sample - loss: 0.3087 - accuracy: 0.1133 - val_loss: 0.3004 - val_accuracy: 0.0481\n",
            "Epoch 4/200\n",
            "6400/6400 [==============================] - 0s 51us/sample - loss: 0.2944 - accuracy: 0.0450 - val_loss: 0.2885 - val_accuracy: 0.1050\n",
            "Epoch 5/200\n",
            "6400/6400 [==============================] - 0s 53us/sample - loss: 0.2816 - accuracy: 0.2175 - val_loss: 0.2771 - val_accuracy: 0.2962\n",
            "Epoch 6/200\n",
            "6400/6400 [==============================] - 0s 56us/sample - loss: 0.2691 - accuracy: 0.4486 - val_loss: 0.2657 - val_accuracy: 0.4800\n",
            "Epoch 7/200\n",
            "6400/6400 [==============================] - 0s 51us/sample - loss: 0.2575 - accuracy: 0.5114 - val_loss: 0.2545 - val_accuracy: 0.4800\n",
            "Epoch 8/200\n",
            "6400/6400 [==============================] - 0s 54us/sample - loss: 0.2460 - accuracy: 0.5114 - val_loss: 0.2433 - val_accuracy: 0.4800\n",
            "Epoch 9/200\n",
            "6400/6400 [==============================] - 0s 52us/sample - loss: 0.2349 - accuracy: 0.5114 - val_loss: 0.2321 - val_accuracy: 0.4800\n",
            "Epoch 10/200\n",
            "6400/6400 [==============================] - 0s 51us/sample - loss: 0.2238 - accuracy: 0.6205 - val_loss: 0.2212 - val_accuracy: 0.6656\n",
            "Epoch 11/200\n",
            "6400/6400 [==============================] - 0s 48us/sample - loss: 0.2132 - accuracy: 0.7339 - val_loss: 0.2108 - val_accuracy: 0.7656\n",
            "Epoch 12/200\n",
            "6400/6400 [==============================] - 0s 53us/sample - loss: 0.2031 - accuracy: 0.8027 - val_loss: 0.2007 - val_accuracy: 0.8125\n",
            "Epoch 13/200\n",
            "6400/6400 [==============================] - 0s 51us/sample - loss: 0.1933 - accuracy: 0.8444 - val_loss: 0.1910 - val_accuracy: 0.8512\n",
            "Epoch 14/200\n",
            "6400/6400 [==============================] - 0s 51us/sample - loss: 0.1839 - accuracy: 0.8814 - val_loss: 0.1819 - val_accuracy: 0.8712\n",
            "Epoch 15/200\n",
            "6400/6400 [==============================] - 0s 54us/sample - loss: 0.1752 - accuracy: 0.8972 - val_loss: 0.1731 - val_accuracy: 0.8875\n",
            "Epoch 16/200\n",
            "6400/6400 [==============================] - 0s 49us/sample - loss: 0.1668 - accuracy: 0.9120 - val_loss: 0.1648 - val_accuracy: 0.9062\n",
            "Epoch 17/200\n",
            "6400/6400 [==============================] - 0s 51us/sample - loss: 0.1588 - accuracy: 0.9237 - val_loss: 0.1569 - val_accuracy: 0.9219\n",
            "Epoch 18/200\n",
            "6400/6400 [==============================] - 0s 50us/sample - loss: 0.1514 - accuracy: 0.9355 - val_loss: 0.1497 - val_accuracy: 0.9262\n",
            "Epoch 19/200\n",
            "6400/6400 [==============================] - 0s 52us/sample - loss: 0.1444 - accuracy: 0.9425 - val_loss: 0.1429 - val_accuracy: 0.9350\n",
            "Epoch 20/200\n",
            "6400/6400 [==============================] - 0s 50us/sample - loss: 0.1379 - accuracy: 0.9480 - val_loss: 0.1366 - val_accuracy: 0.9375\n",
            "Epoch 21/200\n",
            "6400/6400 [==============================] - 0s 49us/sample - loss: 0.1317 - accuracy: 0.9516 - val_loss: 0.1305 - val_accuracy: 0.9438\n",
            "Epoch 22/200\n",
            "6400/6400 [==============================] - 0s 53us/sample - loss: 0.1259 - accuracy: 0.9561 - val_loss: 0.1248 - val_accuracy: 0.9481\n",
            "Epoch 23/200\n",
            "6400/6400 [==============================] - 0s 51us/sample - loss: 0.1206 - accuracy: 0.9577 - val_loss: 0.1196 - val_accuracy: 0.9506\n",
            "Epoch 24/200\n",
            "6400/6400 [==============================] - 0s 51us/sample - loss: 0.1156 - accuracy: 0.9611 - val_loss: 0.1147 - val_accuracy: 0.9519\n",
            "Epoch 25/200\n",
            "6400/6400 [==============================] - 0s 53us/sample - loss: 0.1109 - accuracy: 0.9623 - val_loss: 0.1101 - val_accuracy: 0.9556\n",
            "Epoch 26/200\n",
            "6400/6400 [==============================] - 0s 52us/sample - loss: 0.1065 - accuracy: 0.9645 - val_loss: 0.1056 - val_accuracy: 0.9581\n",
            "Epoch 27/200\n",
            "6400/6400 [==============================] - 0s 50us/sample - loss: 0.1023 - accuracy: 0.9694 - val_loss: 0.1016 - val_accuracy: 0.9600\n",
            "Epoch 28/200\n",
            "6400/6400 [==============================] - 0s 49us/sample - loss: 0.0984 - accuracy: 0.9694 - val_loss: 0.0979 - val_accuracy: 0.9613\n",
            "Epoch 29/200\n",
            "6400/6400 [==============================] - 0s 50us/sample - loss: 0.0948 - accuracy: 0.9741 - val_loss: 0.0944 - val_accuracy: 0.9613\n",
            "Epoch 30/200\n",
            "6400/6400 [==============================] - 0s 53us/sample - loss: 0.0915 - accuracy: 0.9736 - val_loss: 0.0911 - val_accuracy: 0.9663\n",
            "Epoch 31/200\n",
            "6400/6400 [==============================] - 0s 50us/sample - loss: 0.0884 - accuracy: 0.9747 - val_loss: 0.0880 - val_accuracy: 0.9669\n",
            "Epoch 32/200\n",
            "6400/6400 [==============================] - 0s 51us/sample - loss: 0.0854 - accuracy: 0.9758 - val_loss: 0.0853 - val_accuracy: 0.9669\n",
            "Epoch 33/200\n",
            "6400/6400 [==============================] - 0s 51us/sample - loss: 0.0828 - accuracy: 0.9756 - val_loss: 0.0826 - val_accuracy: 0.9688\n",
            "Epoch 34/200\n",
            "6400/6400 [==============================] - 0s 56us/sample - loss: 0.0803 - accuracy: 0.9759 - val_loss: 0.0803 - val_accuracy: 0.9688\n",
            "Epoch 35/200\n",
            "6400/6400 [==============================] - 0s 51us/sample - loss: 0.0779 - accuracy: 0.9761 - val_loss: 0.0779 - val_accuracy: 0.9688\n",
            "Epoch 36/200\n",
            "6400/6400 [==============================] - 0s 51us/sample - loss: 0.0757 - accuracy: 0.9767 - val_loss: 0.0758 - val_accuracy: 0.9712\n",
            "Epoch 37/200\n",
            "6400/6400 [==============================] - 0s 53us/sample - loss: 0.0736 - accuracy: 0.9775 - val_loss: 0.0738 - val_accuracy: 0.9712\n",
            "Epoch 38/200\n",
            "6400/6400 [==============================] - 0s 51us/sample - loss: 0.0717 - accuracy: 0.9778 - val_loss: 0.0717 - val_accuracy: 0.9737\n",
            "Epoch 39/200\n",
            "6400/6400 [==============================] - 0s 52us/sample - loss: 0.0698 - accuracy: 0.9797 - val_loss: 0.0700 - val_accuracy: 0.9737\n",
            "Epoch 40/200\n",
            "6400/6400 [==============================] - 0s 50us/sample - loss: 0.0681 - accuracy: 0.9802 - val_loss: 0.0684 - val_accuracy: 0.9737\n",
            "Epoch 41/200\n",
            "6400/6400 [==============================] - 0s 51us/sample - loss: 0.0665 - accuracy: 0.9809 - val_loss: 0.0667 - val_accuracy: 0.9756\n",
            "Epoch 42/200\n",
            "6400/6400 [==============================] - 0s 51us/sample - loss: 0.0649 - accuracy: 0.9819 - val_loss: 0.0652 - val_accuracy: 0.9756\n",
            "Epoch 43/200\n",
            "6400/6400 [==============================] - 0s 52us/sample - loss: 0.0635 - accuracy: 0.9825 - val_loss: 0.0638 - val_accuracy: 0.9756\n",
            "Epoch 44/200\n",
            "6400/6400 [==============================] - 0s 51us/sample - loss: 0.0622 - accuracy: 0.9809 - val_loss: 0.0624 - val_accuracy: 0.9769\n",
            "Epoch 45/200\n",
            "6400/6400 [==============================] - 0s 50us/sample - loss: 0.0609 - accuracy: 0.9822 - val_loss: 0.0613 - val_accuracy: 0.9769\n",
            "Epoch 46/200\n",
            "6400/6400 [==============================] - 0s 50us/sample - loss: 0.0597 - accuracy: 0.9842 - val_loss: 0.0601 - val_accuracy: 0.9769\n",
            "Epoch 47/200\n",
            "6400/6400 [==============================] - 0s 50us/sample - loss: 0.0586 - accuracy: 0.9831 - val_loss: 0.0590 - val_accuracy: 0.9781\n",
            "Epoch 48/200\n",
            "6400/6400 [==============================] - 0s 51us/sample - loss: 0.0575 - accuracy: 0.9837 - val_loss: 0.0579 - val_accuracy: 0.9825\n",
            "Epoch 49/200\n",
            "6400/6400 [==============================] - 0s 53us/sample - loss: 0.0564 - accuracy: 0.9844 - val_loss: 0.0569 - val_accuracy: 0.9825\n",
            "Epoch 50/200\n",
            "6400/6400 [==============================] - 0s 51us/sample - loss: 0.0555 - accuracy: 0.9837 - val_loss: 0.0559 - val_accuracy: 0.9831\n",
            "Epoch 51/200\n",
            "6400/6400 [==============================] - 0s 51us/sample - loss: 0.0545 - accuracy: 0.9853 - val_loss: 0.0550 - val_accuracy: 0.9819\n",
            "Epoch 52/200\n",
            "6400/6400 [==============================] - 0s 50us/sample - loss: 0.0537 - accuracy: 0.9845 - val_loss: 0.0542 - val_accuracy: 0.9825\n",
            "Epoch 53/200\n",
            "6400/6400 [==============================] - 0s 49us/sample - loss: 0.0528 - accuracy: 0.9852 - val_loss: 0.0534 - val_accuracy: 0.9825\n",
            "Epoch 54/200\n",
            "6400/6400 [==============================] - 0s 53us/sample - loss: 0.0520 - accuracy: 0.9845 - val_loss: 0.0525 - val_accuracy: 0.9850\n",
            "Epoch 55/200\n",
            "6400/6400 [==============================] - 0s 52us/sample - loss: 0.0513 - accuracy: 0.9859 - val_loss: 0.0518 - val_accuracy: 0.9837\n",
            "Epoch 56/200\n",
            "6400/6400 [==============================] - 0s 49us/sample - loss: 0.0505 - accuracy: 0.9855 - val_loss: 0.0511 - val_accuracy: 0.9837\n",
            "Epoch 57/200\n",
            "6400/6400 [==============================] - 0s 50us/sample - loss: 0.0498 - accuracy: 0.9848 - val_loss: 0.0504 - val_accuracy: 0.9850\n",
            "Epoch 58/200\n",
            "6400/6400 [==============================] - 0s 52us/sample - loss: 0.0491 - accuracy: 0.9864 - val_loss: 0.0498 - val_accuracy: 0.9850\n",
            "Epoch 59/200\n",
            "6400/6400 [==============================] - 0s 52us/sample - loss: 0.0485 - accuracy: 0.9861 - val_loss: 0.0492 - val_accuracy: 0.9837\n",
            "Epoch 60/200\n",
            "6400/6400 [==============================] - 0s 50us/sample - loss: 0.0479 - accuracy: 0.9858 - val_loss: 0.0485 - val_accuracy: 0.9850\n",
            "Epoch 61/200\n",
            "6400/6400 [==============================] - 0s 49us/sample - loss: 0.0473 - accuracy: 0.9859 - val_loss: 0.0479 - val_accuracy: 0.9875\n",
            "Epoch 62/200\n",
            "6400/6400 [==============================] - 0s 48us/sample - loss: 0.0467 - accuracy: 0.9866 - val_loss: 0.0474 - val_accuracy: 0.9875\n",
            "Epoch 63/200\n",
            "6400/6400 [==============================] - 0s 49us/sample - loss: 0.0462 - accuracy: 0.9869 - val_loss: 0.0468 - val_accuracy: 0.9875\n",
            "Epoch 64/200\n",
            "6400/6400 [==============================] - 0s 50us/sample - loss: 0.0456 - accuracy: 0.9862 - val_loss: 0.0463 - val_accuracy: 0.9875\n",
            "Epoch 65/200\n",
            "6400/6400 [==============================] - 0s 52us/sample - loss: 0.0451 - accuracy: 0.9866 - val_loss: 0.0458 - val_accuracy: 0.9875\n",
            "Epoch 66/200\n",
            "6400/6400 [==============================] - 0s 53us/sample - loss: 0.0446 - accuracy: 0.9872 - val_loss: 0.0453 - val_accuracy: 0.9881\n",
            "Epoch 67/200\n",
            "6400/6400 [==============================] - 0s 51us/sample - loss: 0.0441 - accuracy: 0.9880 - val_loss: 0.0448 - val_accuracy: 0.9875\n",
            "Epoch 68/200\n",
            "6400/6400 [==============================] - 0s 52us/sample - loss: 0.0437 - accuracy: 0.9875 - val_loss: 0.0444 - val_accuracy: 0.9875\n",
            "Epoch 69/200\n",
            "6400/6400 [==============================] - 0s 51us/sample - loss: 0.0432 - accuracy: 0.9878 - val_loss: 0.0440 - val_accuracy: 0.9875\n",
            "Epoch 70/200\n",
            "6400/6400 [==============================] - 0s 51us/sample - loss: 0.0427 - accuracy: 0.9866 - val_loss: 0.0435 - val_accuracy: 0.9875\n",
            "Epoch 71/200\n",
            "6400/6400 [==============================] - 0s 49us/sample - loss: 0.0423 - accuracy: 0.9878 - val_loss: 0.0431 - val_accuracy: 0.9875\n",
            "Epoch 72/200\n",
            "6400/6400 [==============================] - 0s 48us/sample - loss: 0.0419 - accuracy: 0.9867 - val_loss: 0.0427 - val_accuracy: 0.9881\n",
            "Epoch 73/200\n",
            "6400/6400 [==============================] - 0s 52us/sample - loss: 0.0415 - accuracy: 0.9873 - val_loss: 0.0423 - val_accuracy: 0.9887\n",
            "Epoch 74/200\n",
            "6400/6400 [==============================] - 0s 52us/sample - loss: 0.0412 - accuracy: 0.9873 - val_loss: 0.0419 - val_accuracy: 0.9894\n",
            "Epoch 75/200\n",
            "6400/6400 [==============================] - 0s 50us/sample - loss: 0.0408 - accuracy: 0.9880 - val_loss: 0.0415 - val_accuracy: 0.9894\n",
            "Epoch 76/200\n",
            "6400/6400 [==============================] - 0s 50us/sample - loss: 0.0404 - accuracy: 0.9887 - val_loss: 0.0412 - val_accuracy: 0.9894\n",
            "Epoch 77/200\n",
            "6400/6400 [==============================] - 0s 48us/sample - loss: 0.0401 - accuracy: 0.9883 - val_loss: 0.0409 - val_accuracy: 0.9894\n",
            "Epoch 78/200\n",
            "6400/6400 [==============================] - 0s 52us/sample - loss: 0.0397 - accuracy: 0.9886 - val_loss: 0.0405 - val_accuracy: 0.9894\n",
            "Epoch 79/200\n",
            "6400/6400 [==============================] - 0s 52us/sample - loss: 0.0394 - accuracy: 0.9889 - val_loss: 0.0402 - val_accuracy: 0.9894\n",
            "Epoch 80/200\n",
            "6400/6400 [==============================] - 0s 54us/sample - loss: 0.0391 - accuracy: 0.9884 - val_loss: 0.0399 - val_accuracy: 0.9894\n",
            "Epoch 81/200\n",
            "6400/6400 [==============================] - 0s 52us/sample - loss: 0.0387 - accuracy: 0.9886 - val_loss: 0.0396 - val_accuracy: 0.9894\n",
            "Epoch 82/200\n",
            "6400/6400 [==============================] - 0s 52us/sample - loss: 0.0384 - accuracy: 0.9889 - val_loss: 0.0393 - val_accuracy: 0.9894\n",
            "Epoch 83/200\n",
            "6400/6400 [==============================] - 0s 50us/sample - loss: 0.0382 - accuracy: 0.9881 - val_loss: 0.0390 - val_accuracy: 0.9894\n",
            "Epoch 84/200\n",
            "6400/6400 [==============================] - 0s 51us/sample - loss: 0.0379 - accuracy: 0.9887 - val_loss: 0.0387 - val_accuracy: 0.9894\n",
            "Epoch 85/200\n",
            "6400/6400 [==============================] - 0s 52us/sample - loss: 0.0376 - accuracy: 0.9891 - val_loss: 0.0384 - val_accuracy: 0.9894\n",
            "Epoch 86/200\n",
            "6400/6400 [==============================] - 0s 55us/sample - loss: 0.0373 - accuracy: 0.9891 - val_loss: 0.0382 - val_accuracy: 0.9894\n",
            "Epoch 87/200\n",
            "6400/6400 [==============================] - 0s 54us/sample - loss: 0.0370 - accuracy: 0.9892 - val_loss: 0.0379 - val_accuracy: 0.9894\n",
            "Epoch 88/200\n",
            "6400/6400 [==============================] - 0s 51us/sample - loss: 0.0368 - accuracy: 0.9891 - val_loss: 0.0376 - val_accuracy: 0.9894\n",
            "Epoch 89/200\n",
            "6400/6400 [==============================] - 0s 51us/sample - loss: 0.0365 - accuracy: 0.9897 - val_loss: 0.0374 - val_accuracy: 0.9894\n",
            "Epoch 90/200\n",
            "6400/6400 [==============================] - 0s 49us/sample - loss: 0.0362 - accuracy: 0.9903 - val_loss: 0.0371 - val_accuracy: 0.9894\n",
            "Epoch 91/200\n",
            "6400/6400 [==============================] - 0s 49us/sample - loss: 0.0360 - accuracy: 0.9895 - val_loss: 0.0369 - val_accuracy: 0.9894\n",
            "Epoch 92/200\n",
            "6400/6400 [==============================] - 0s 52us/sample - loss: 0.0358 - accuracy: 0.9895 - val_loss: 0.0367 - val_accuracy: 0.9894\n",
            "Epoch 93/200\n",
            "6400/6400 [==============================] - 0s 56us/sample - loss: 0.0355 - accuracy: 0.9900 - val_loss: 0.0364 - val_accuracy: 0.9894\n",
            "Epoch 94/200\n",
            "6400/6400 [==============================] - 0s 52us/sample - loss: 0.0353 - accuracy: 0.9894 - val_loss: 0.0362 - val_accuracy: 0.9894\n",
            "Epoch 95/200\n",
            "6400/6400 [==============================] - 0s 50us/sample - loss: 0.0351 - accuracy: 0.9903 - val_loss: 0.0360 - val_accuracy: 0.9894\n",
            "Epoch 96/200\n",
            "6400/6400 [==============================] - 0s 50us/sample - loss: 0.0349 - accuracy: 0.9898 - val_loss: 0.0358 - val_accuracy: 0.9894\n",
            "Epoch 97/200\n",
            "6400/6400 [==============================] - 0s 54us/sample - loss: 0.0346 - accuracy: 0.9902 - val_loss: 0.0355 - val_accuracy: 0.9894\n",
            "Epoch 98/200\n",
            "6400/6400 [==============================] - 0s 54us/sample - loss: 0.0344 - accuracy: 0.9902 - val_loss: 0.0354 - val_accuracy: 0.9894\n",
            "Epoch 99/200\n",
            "6400/6400 [==============================] - 0s 48us/sample - loss: 0.0342 - accuracy: 0.9900 - val_loss: 0.0351 - val_accuracy: 0.9906\n",
            "Epoch 100/200\n",
            "6400/6400 [==============================] - 0s 52us/sample - loss: 0.0340 - accuracy: 0.9914 - val_loss: 0.0350 - val_accuracy: 0.9900\n",
            "Epoch 101/200\n",
            "6400/6400 [==============================] - 0s 53us/sample - loss: 0.0338 - accuracy: 0.9903 - val_loss: 0.0348 - val_accuracy: 0.9906\n",
            "Epoch 102/200\n",
            "6400/6400 [==============================] - 0s 52us/sample - loss: 0.0336 - accuracy: 0.9905 - val_loss: 0.0346 - val_accuracy: 0.9894\n",
            "Epoch 103/200\n",
            "6400/6400 [==============================] - 0s 50us/sample - loss: 0.0335 - accuracy: 0.9906 - val_loss: 0.0344 - val_accuracy: 0.9906\n",
            "Epoch 104/200\n",
            "6400/6400 [==============================] - 0s 50us/sample - loss: 0.0333 - accuracy: 0.9909 - val_loss: 0.0342 - val_accuracy: 0.9900\n",
            "Epoch 105/200\n",
            "6400/6400 [==============================] - 0s 51us/sample - loss: 0.0331 - accuracy: 0.9914 - val_loss: 0.0340 - val_accuracy: 0.9906\n",
            "Epoch 106/200\n",
            "6400/6400 [==============================] - 0s 51us/sample - loss: 0.0329 - accuracy: 0.9905 - val_loss: 0.0338 - val_accuracy: 0.9906\n",
            "Epoch 107/200\n",
            "6400/6400 [==============================] - 0s 51us/sample - loss: 0.0327 - accuracy: 0.9909 - val_loss: 0.0337 - val_accuracy: 0.9906\n",
            "Epoch 108/200\n",
            "6400/6400 [==============================] - 0s 50us/sample - loss: 0.0326 - accuracy: 0.9908 - val_loss: 0.0335 - val_accuracy: 0.9906\n",
            "Epoch 109/200\n",
            "6400/6400 [==============================] - 0s 52us/sample - loss: 0.0324 - accuracy: 0.9911 - val_loss: 0.0334 - val_accuracy: 0.9894\n",
            "Epoch 110/200\n",
            "6400/6400 [==============================] - 0s 49us/sample - loss: 0.0322 - accuracy: 0.9911 - val_loss: 0.0332 - val_accuracy: 0.9906\n",
            "Epoch 111/200\n",
            "6400/6400 [==============================] - 0s 55us/sample - loss: 0.0321 - accuracy: 0.9912 - val_loss: 0.0330 - val_accuracy: 0.9906\n",
            "Epoch 112/200\n",
            "6400/6400 [==============================] - 0s 51us/sample - loss: 0.0319 - accuracy: 0.9916 - val_loss: 0.0329 - val_accuracy: 0.9906\n",
            "Epoch 113/200\n",
            "6400/6400 [==============================] - 0s 51us/sample - loss: 0.0317 - accuracy: 0.9909 - val_loss: 0.0327 - val_accuracy: 0.9906\n",
            "Epoch 114/200\n",
            "6400/6400 [==============================] - 0s 54us/sample - loss: 0.0316 - accuracy: 0.9916 - val_loss: 0.0326 - val_accuracy: 0.9906\n",
            "Epoch 115/200\n",
            "6400/6400 [==============================] - 0s 53us/sample - loss: 0.0314 - accuracy: 0.9909 - val_loss: 0.0324 - val_accuracy: 0.9906\n",
            "Epoch 116/200\n",
            "6400/6400 [==============================] - 0s 52us/sample - loss: 0.0313 - accuracy: 0.9911 - val_loss: 0.0322 - val_accuracy: 0.9919\n",
            "Epoch 117/200\n",
            "6400/6400 [==============================] - 0s 50us/sample - loss: 0.0311 - accuracy: 0.9925 - val_loss: 0.0321 - val_accuracy: 0.9906\n",
            "Epoch 118/200\n",
            "6400/6400 [==============================] - 0s 52us/sample - loss: 0.0310 - accuracy: 0.9911 - val_loss: 0.0320 - val_accuracy: 0.9906\n",
            "Epoch 119/200\n",
            "6400/6400 [==============================] - 0s 52us/sample - loss: 0.0309 - accuracy: 0.9917 - val_loss: 0.0319 - val_accuracy: 0.9906\n",
            "Epoch 120/200\n",
            "6400/6400 [==============================] - 0s 54us/sample - loss: 0.0307 - accuracy: 0.9916 - val_loss: 0.0317 - val_accuracy: 0.9906\n",
            "Epoch 121/200\n",
            "6400/6400 [==============================] - 0s 52us/sample - loss: 0.0306 - accuracy: 0.9916 - val_loss: 0.0316 - val_accuracy: 0.9906\n",
            "Epoch 122/200\n",
            "6400/6400 [==============================] - 0s 52us/sample - loss: 0.0304 - accuracy: 0.9916 - val_loss: 0.0315 - val_accuracy: 0.9906\n",
            "Epoch 123/200\n",
            "6400/6400 [==============================] - 0s 51us/sample - loss: 0.0303 - accuracy: 0.9920 - val_loss: 0.0313 - val_accuracy: 0.9906\n",
            "Epoch 124/200\n",
            "6400/6400 [==============================] - 0s 49us/sample - loss: 0.0302 - accuracy: 0.9917 - val_loss: 0.0311 - val_accuracy: 0.9919\n",
            "Epoch 125/200\n",
            "6400/6400 [==============================] - 0s 52us/sample - loss: 0.0300 - accuracy: 0.9919 - val_loss: 0.0310 - val_accuracy: 0.9919\n",
            "Epoch 126/200\n",
            "6400/6400 [==============================] - 0s 54us/sample - loss: 0.0299 - accuracy: 0.9917 - val_loss: 0.0309 - val_accuracy: 0.9919\n",
            "Epoch 127/200\n",
            "6400/6400 [==============================] - 0s 51us/sample - loss: 0.0298 - accuracy: 0.9922 - val_loss: 0.0308 - val_accuracy: 0.9912\n",
            "Epoch 128/200\n",
            "6400/6400 [==============================] - 0s 54us/sample - loss: 0.0296 - accuracy: 0.9917 - val_loss: 0.0307 - val_accuracy: 0.9919\n",
            "Epoch 129/200\n",
            "6400/6400 [==============================] - 0s 53us/sample - loss: 0.0295 - accuracy: 0.9920 - val_loss: 0.0305 - val_accuracy: 0.9919\n",
            "Epoch 130/200\n",
            "6400/6400 [==============================] - 0s 54us/sample - loss: 0.0294 - accuracy: 0.9923 - val_loss: 0.0304 - val_accuracy: 0.9919\n",
            "Epoch 131/200\n",
            "6400/6400 [==============================] - 0s 50us/sample - loss: 0.0293 - accuracy: 0.9917 - val_loss: 0.0303 - val_accuracy: 0.9925\n",
            "Epoch 132/200\n",
            "6400/6400 [==============================] - 0s 52us/sample - loss: 0.0291 - accuracy: 0.9925 - val_loss: 0.0302 - val_accuracy: 0.9919\n",
            "Epoch 133/200\n",
            "6400/6400 [==============================] - 0s 50us/sample - loss: 0.0290 - accuracy: 0.9922 - val_loss: 0.0300 - val_accuracy: 0.9919\n",
            "Epoch 134/200\n",
            "6400/6400 [==============================] - 0s 50us/sample - loss: 0.0289 - accuracy: 0.9927 - val_loss: 0.0299 - val_accuracy: 0.9919\n",
            "Epoch 135/200\n",
            "6400/6400 [==============================] - 0s 47us/sample - loss: 0.0288 - accuracy: 0.9922 - val_loss: 0.0298 - val_accuracy: 0.9919\n",
            "Epoch 136/200\n",
            "6400/6400 [==============================] - 0s 55us/sample - loss: 0.0287 - accuracy: 0.9919 - val_loss: 0.0297 - val_accuracy: 0.9919\n",
            "Epoch 137/200\n",
            "6400/6400 [==============================] - 0s 49us/sample - loss: 0.0286 - accuracy: 0.9923 - val_loss: 0.0296 - val_accuracy: 0.9919\n",
            "Epoch 138/200\n",
            "6400/6400 [==============================] - 0s 53us/sample - loss: 0.0284 - accuracy: 0.9930 - val_loss: 0.0295 - val_accuracy: 0.9919\n",
            "Epoch 139/200\n",
            "6400/6400 [==============================] - 0s 53us/sample - loss: 0.0283 - accuracy: 0.9927 - val_loss: 0.0294 - val_accuracy: 0.9919\n",
            "Epoch 140/200\n",
            "6400/6400 [==============================] - 0s 51us/sample - loss: 0.0282 - accuracy: 0.9928 - val_loss: 0.0293 - val_accuracy: 0.9919\n",
            "Epoch 141/200\n",
            "6400/6400 [==============================] - 0s 52us/sample - loss: 0.0281 - accuracy: 0.9933 - val_loss: 0.0292 - val_accuracy: 0.9919\n",
            "Epoch 142/200\n",
            "6400/6400 [==============================] - 0s 52us/sample - loss: 0.0280 - accuracy: 0.9927 - val_loss: 0.0291 - val_accuracy: 0.9919\n",
            "Epoch 143/200\n",
            "6400/6400 [==============================] - 0s 55us/sample - loss: 0.0279 - accuracy: 0.9927 - val_loss: 0.0290 - val_accuracy: 0.9919\n",
            "Epoch 144/200\n",
            "6400/6400 [==============================] - 0s 53us/sample - loss: 0.0278 - accuracy: 0.9920 - val_loss: 0.0288 - val_accuracy: 0.9931\n",
            "Epoch 145/200\n",
            "6400/6400 [==============================] - 0s 51us/sample - loss: 0.0277 - accuracy: 0.9930 - val_loss: 0.0287 - val_accuracy: 0.9925\n",
            "Epoch 146/200\n",
            "6400/6400 [==============================] - 0s 51us/sample - loss: 0.0276 - accuracy: 0.9927 - val_loss: 0.0286 - val_accuracy: 0.9925\n",
            "Epoch 147/200\n",
            "6400/6400 [==============================] - 0s 49us/sample - loss: 0.0275 - accuracy: 0.9928 - val_loss: 0.0285 - val_accuracy: 0.9925\n",
            "Epoch 148/200\n",
            "6400/6400 [==============================] - 0s 51us/sample - loss: 0.0274 - accuracy: 0.9928 - val_loss: 0.0284 - val_accuracy: 0.9931\n",
            "Epoch 149/200\n",
            "6400/6400 [==============================] - 0s 51us/sample - loss: 0.0273 - accuracy: 0.9933 - val_loss: 0.0284 - val_accuracy: 0.9919\n",
            "Epoch 150/200\n",
            "6400/6400 [==============================] - 0s 50us/sample - loss: 0.0272 - accuracy: 0.9927 - val_loss: 0.0283 - val_accuracy: 0.9919\n",
            "Epoch 151/200\n",
            "6400/6400 [==============================] - 0s 51us/sample - loss: 0.0271 - accuracy: 0.9928 - val_loss: 0.0282 - val_accuracy: 0.9925\n",
            "Epoch 152/200\n",
            "6400/6400 [==============================] - 0s 52us/sample - loss: 0.0270 - accuracy: 0.9931 - val_loss: 0.0281 - val_accuracy: 0.9931\n",
            "Epoch 153/200\n",
            "6400/6400 [==============================] - 0s 50us/sample - loss: 0.0269 - accuracy: 0.9927 - val_loss: 0.0280 - val_accuracy: 0.9931\n",
            "Epoch 154/200\n",
            "6400/6400 [==============================] - 0s 52us/sample - loss: 0.0268 - accuracy: 0.9928 - val_loss: 0.0279 - val_accuracy: 0.9931\n",
            "Epoch 155/200\n",
            "6400/6400 [==============================] - 0s 52us/sample - loss: 0.0267 - accuracy: 0.9937 - val_loss: 0.0278 - val_accuracy: 0.9919\n",
            "Epoch 156/200\n",
            "6400/6400 [==============================] - 0s 50us/sample - loss: 0.0266 - accuracy: 0.9936 - val_loss: 0.0277 - val_accuracy: 0.9925\n",
            "Epoch 157/200\n",
            "6400/6400 [==============================] - 0s 52us/sample - loss: 0.0266 - accuracy: 0.9931 - val_loss: 0.0276 - val_accuracy: 0.9925\n",
            "Epoch 158/200\n",
            "6400/6400 [==============================] - 0s 51us/sample - loss: 0.0265 - accuracy: 0.9928 - val_loss: 0.0275 - val_accuracy: 0.9931\n",
            "Epoch 159/200\n",
            "6400/6400 [==============================] - 0s 52us/sample - loss: 0.0264 - accuracy: 0.9928 - val_loss: 0.0274 - val_accuracy: 0.9931\n",
            "Epoch 160/200\n",
            "6400/6400 [==============================] - 0s 54us/sample - loss: 0.0263 - accuracy: 0.9939 - val_loss: 0.0274 - val_accuracy: 0.9925\n",
            "Epoch 161/200\n",
            "6400/6400 [==============================] - 0s 53us/sample - loss: 0.0262 - accuracy: 0.9936 - val_loss: 0.0273 - val_accuracy: 0.9931\n",
            "Epoch 162/200\n",
            "6400/6400 [==============================] - 0s 52us/sample - loss: 0.0261 - accuracy: 0.9936 - val_loss: 0.0272 - val_accuracy: 0.9931\n",
            "Epoch 163/200\n",
            "6400/6400 [==============================] - 0s 54us/sample - loss: 0.0260 - accuracy: 0.9937 - val_loss: 0.0271 - val_accuracy: 0.9931\n",
            "Epoch 164/200\n",
            "6400/6400 [==============================] - 0s 53us/sample - loss: 0.0260 - accuracy: 0.9930 - val_loss: 0.0270 - val_accuracy: 0.9931\n",
            "Epoch 165/200\n",
            "6400/6400 [==============================] - 0s 54us/sample - loss: 0.0259 - accuracy: 0.9936 - val_loss: 0.0270 - val_accuracy: 0.9931\n",
            "Epoch 166/200\n",
            "6400/6400 [==============================] - 0s 54us/sample - loss: 0.0258 - accuracy: 0.9931 - val_loss: 0.0269 - val_accuracy: 0.9931\n",
            "Epoch 167/200\n",
            "6400/6400 [==============================] - 0s 54us/sample - loss: 0.0257 - accuracy: 0.9928 - val_loss: 0.0268 - val_accuracy: 0.9931\n",
            "Epoch 168/200\n",
            "6400/6400 [==============================] - 0s 57us/sample - loss: 0.0256 - accuracy: 0.9936 - val_loss: 0.0267 - val_accuracy: 0.9931\n",
            "Epoch 169/200\n",
            "6400/6400 [==============================] - 0s 55us/sample - loss: 0.0256 - accuracy: 0.9937 - val_loss: 0.0267 - val_accuracy: 0.9931\n",
            "Epoch 170/200\n",
            "6400/6400 [==============================] - 0s 57us/sample - loss: 0.0255 - accuracy: 0.9931 - val_loss: 0.0266 - val_accuracy: 0.9931\n",
            "Epoch 171/200\n",
            "6400/6400 [==============================] - 0s 58us/sample - loss: 0.0254 - accuracy: 0.9937 - val_loss: 0.0265 - val_accuracy: 0.9937\n",
            "Epoch 172/200\n",
            "6400/6400 [==============================] - 0s 58us/sample - loss: 0.0253 - accuracy: 0.9942 - val_loss: 0.0264 - val_accuracy: 0.9937\n",
            "Epoch 173/200\n",
            "6400/6400 [==============================] - 0s 54us/sample - loss: 0.0253 - accuracy: 0.9939 - val_loss: 0.0264 - val_accuracy: 0.9931\n",
            "Epoch 174/200\n",
            "6400/6400 [==============================] - 0s 56us/sample - loss: 0.0252 - accuracy: 0.9939 - val_loss: 0.0263 - val_accuracy: 0.9937\n",
            "Epoch 175/200\n",
            "6400/6400 [==============================] - 0s 58us/sample - loss: 0.0251 - accuracy: 0.9944 - val_loss: 0.0262 - val_accuracy: 0.9931\n",
            "Epoch 176/200\n",
            "6400/6400 [==============================] - 0s 54us/sample - loss: 0.0250 - accuracy: 0.9931 - val_loss: 0.0261 - val_accuracy: 0.9931\n",
            "Epoch 177/200\n",
            "6400/6400 [==============================] - 0s 59us/sample - loss: 0.0250 - accuracy: 0.9936 - val_loss: 0.0260 - val_accuracy: 0.9937\n",
            "Epoch 178/200\n",
            "6400/6400 [==============================] - 0s 56us/sample - loss: 0.0249 - accuracy: 0.9942 - val_loss: 0.0260 - val_accuracy: 0.9937\n",
            "Epoch 179/200\n",
            "6400/6400 [==============================] - 0s 50us/sample - loss: 0.0248 - accuracy: 0.9944 - val_loss: 0.0259 - val_accuracy: 0.9937\n",
            "Epoch 180/200\n",
            "6400/6400 [==============================] - 0s 53us/sample - loss: 0.0248 - accuracy: 0.9945 - val_loss: 0.0259 - val_accuracy: 0.9931\n",
            "Epoch 181/200\n",
            "6400/6400 [==============================] - 0s 54us/sample - loss: 0.0247 - accuracy: 0.9936 - val_loss: 0.0258 - val_accuracy: 0.9931\n",
            "Epoch 182/200\n",
            "6400/6400 [==============================] - 0s 50us/sample - loss: 0.0246 - accuracy: 0.9936 - val_loss: 0.0257 - val_accuracy: 0.9937\n",
            "Epoch 183/200\n",
            "6400/6400 [==============================] - 0s 50us/sample - loss: 0.0245 - accuracy: 0.9939 - val_loss: 0.0256 - val_accuracy: 0.9937\n",
            "Epoch 184/200\n",
            "6400/6400 [==============================] - 0s 49us/sample - loss: 0.0245 - accuracy: 0.9944 - val_loss: 0.0256 - val_accuracy: 0.9931\n",
            "Epoch 185/200\n",
            "6400/6400 [==============================] - 0s 51us/sample - loss: 0.0244 - accuracy: 0.9941 - val_loss: 0.0255 - val_accuracy: 0.9937\n",
            "Epoch 186/200\n",
            "6400/6400 [==============================] - 0s 56us/sample - loss: 0.0243 - accuracy: 0.9937 - val_loss: 0.0254 - val_accuracy: 0.9937\n",
            "Epoch 187/200\n",
            "6400/6400 [==============================] - 0s 59us/sample - loss: 0.0243 - accuracy: 0.9939 - val_loss: 0.0254 - val_accuracy: 0.9937\n",
            "Epoch 188/200\n",
            "6400/6400 [==============================] - 0s 56us/sample - loss: 0.0242 - accuracy: 0.9941 - val_loss: 0.0253 - val_accuracy: 0.9937\n",
            "Epoch 189/200\n",
            "6400/6400 [==============================] - 0s 56us/sample - loss: 0.0242 - accuracy: 0.9945 - val_loss: 0.0252 - val_accuracy: 0.9937\n",
            "Epoch 190/200\n",
            "6400/6400 [==============================] - 0s 57us/sample - loss: 0.0241 - accuracy: 0.9944 - val_loss: 0.0252 - val_accuracy: 0.9950\n",
            "Epoch 191/200\n",
            "6400/6400 [==============================] - 0s 53us/sample - loss: 0.0240 - accuracy: 0.9944 - val_loss: 0.0251 - val_accuracy: 0.9937\n",
            "Epoch 192/200\n",
            "6400/6400 [==============================] - 0s 53us/sample - loss: 0.0240 - accuracy: 0.9942 - val_loss: 0.0251 - val_accuracy: 0.9944\n",
            "Epoch 193/200\n",
            "6400/6400 [==============================] - 0s 52us/sample - loss: 0.0239 - accuracy: 0.9942 - val_loss: 0.0250 - val_accuracy: 0.9937\n",
            "Epoch 194/200\n",
            "6400/6400 [==============================] - 0s 52us/sample - loss: 0.0238 - accuracy: 0.9944 - val_loss: 0.0249 - val_accuracy: 0.9937\n",
            "Epoch 195/200\n",
            "6400/6400 [==============================] - 0s 51us/sample - loss: 0.0238 - accuracy: 0.9944 - val_loss: 0.0249 - val_accuracy: 0.9937\n",
            "Epoch 196/200\n",
            "6400/6400 [==============================] - 0s 52us/sample - loss: 0.0237 - accuracy: 0.9948 - val_loss: 0.0249 - val_accuracy: 0.9937\n",
            "Epoch 197/200\n",
            "6400/6400 [==============================] - 0s 53us/sample - loss: 0.0237 - accuracy: 0.9945 - val_loss: 0.0248 - val_accuracy: 0.9937\n",
            "Epoch 198/200\n",
            "6400/6400 [==============================] - 0s 53us/sample - loss: 0.0236 - accuracy: 0.9942 - val_loss: 0.0247 - val_accuracy: 0.9937\n",
            "Epoch 199/200\n",
            "6400/6400 [==============================] - 0s 52us/sample - loss: 0.0235 - accuracy: 0.9939 - val_loss: 0.0247 - val_accuracy: 0.9937\n",
            "Epoch 200/200\n",
            "6400/6400 [==============================] - 0s 51us/sample - loss: 0.0235 - accuracy: 0.9944 - val_loss: 0.0246 - val_accuracy: 0.9937\n"
          ],
          "name": "stdout"
        },
        {
          "output_type": "execute_result",
          "data": {
            "text/plain": [
              "<tensorflow.python.keras.callbacks.History at 0x7f7dca919518>"
            ]
          },
          "metadata": {
            "tags": []
          },
          "execution_count": 37
        }
      ]
    },
    {
      "cell_type": "code",
      "metadata": {
        "id": "CjGlBQXIDHCr",
        "colab_type": "code",
        "colab": {
          "base_uri": "https://localhost:8080/",
          "height": 218
        },
        "outputId": "3789c332-9f9c-4568-e82c-1d972cde639a"
      },
      "source": [
        "model.summary()"
      ],
      "execution_count": 29,
      "outputs": [
        {
          "output_type": "stream",
          "text": [
            "Model: \"slp\"\n",
            "_________________________________________________________________\n",
            "Layer (type)                 Output Shape              Param #   \n",
            "=================================================================\n",
            "dense_7 (Dense)              (None, 1)                 2         \n",
            "_________________________________________________________________\n",
            "activation_5 (Activation)    (None, 1)                 0         \n",
            "=================================================================\n",
            "Total params: 2\n",
            "Trainable params: 2\n",
            "Non-trainable params: 0\n",
            "_________________________________________________________________\n"
          ],
          "name": "stdout"
        }
      ]
    },
    {
      "cell_type": "code",
      "metadata": {
        "id": "PK9gGlsTN24V",
        "colab_type": "code",
        "colab": {
          "base_uri": "https://localhost:8080/",
          "height": 50
        },
        "outputId": "cd8f0c80-0a2a-4be2-a04d-7e11e53dbf00"
      },
      "source": [
        "model.evaluate(test_x, test_y, verbose=2)"
      ],
      "execution_count": 30,
      "outputs": [
        {
          "output_type": "stream",
          "text": [
            "2000/1 - 0s - loss: 0.0167\n"
          ],
          "name": "stdout"
        },
        {
          "output_type": "execute_result",
          "data": {
            "text/plain": [
              "0.02416697160899639"
            ]
          },
          "metadata": {
            "tags": []
          },
          "execution_count": 30
        }
      ]
    },
    {
      "cell_type": "code",
      "metadata": {
        "id": "Jq-VocMhQYEZ",
        "colab_type": "code",
        "colab": {
          "base_uri": "https://localhost:8080/",
          "height": 134
        },
        "outputId": "a7a93874-5cdf-4eec-d532-d174d1f4e792"
      },
      "source": [
        "np.round(model.predict(test_x))"
      ],
      "execution_count": 31,
      "outputs": [
        {
          "output_type": "execute_result",
          "data": {
            "text/plain": [
              "array([[0.],\n",
              "       [1.],\n",
              "       [1.],\n",
              "       ...,\n",
              "       [0.],\n",
              "       [0.],\n",
              "       [1.]], dtype=float32)"
            ]
          },
          "metadata": {
            "tags": []
          },
          "execution_count": 31
        }
      ]
    },
    {
      "cell_type": "code",
      "metadata": {
        "id": "ykjEfi7-YLPs",
        "colab_type": "code",
        "colab": {
          "base_uri": "https://localhost:8080/",
          "height": 50
        },
        "outputId": "66d411d4-331b-4d52-c1d2-088a8546cb16"
      },
      "source": [
        "model.trainable_variables"
      ],
      "execution_count": 32,
      "outputs": [
        {
          "output_type": "execute_result",
          "data": {
            "text/plain": [
              "[<tf.Variable 'dense_7/kernel:0' shape=(1, 1) dtype=float32, numpy=array([[16.830898]], dtype=float32)>,\n",
              " <tf.Variable 'dense_7/bias:0' shape=(1,) dtype=float32, numpy=array([-6.654755], dtype=float32)>]"
            ]
          },
          "metadata": {
            "tags": []
          },
          "execution_count": 32
        }
      ]
    },
    {
      "cell_type": "code",
      "metadata": {
        "id": "Y-nbWxr4Zi6h",
        "colab_type": "code",
        "colab": {}
      },
      "source": [
        ""
      ],
      "execution_count": 0,
      "outputs": []
    }
  ]
}